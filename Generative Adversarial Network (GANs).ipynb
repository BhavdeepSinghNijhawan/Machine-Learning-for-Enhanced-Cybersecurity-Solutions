{
  "cells": [
    {
      "cell_type": "markdown",
      "metadata": {
        "id": "view-in-github",
        "colab_type": "text"
      },
      "source": [
        "<a href=\"https://colab.research.google.com/github/BhavdeepSinghNijhawan/Machine-Learning-for-Enhanced-Cybersecurity-Solutions/blob/main/Generative%20Adversarial%20Network%20(GANs).ipynb\" target=\"_parent\"><img src=\"https://colab.research.google.com/assets/colab-badge.svg\" alt=\"Open In Colab\"/></a>"
      ]
    },
    {
      "cell_type": "code",
      "execution_count": null,
      "metadata": {
        "colab": {
          "base_uri": "https://localhost:8080/"
        },
        "id": "fUQRX5K5I1Ta",
        "outputId": "cc4bac7a-5c78-4c18-cbcb-b3b0bba93538"
      },
      "outputs": [
        {
          "output_type": "stream",
          "name": "stdout",
          "text": [
            "Requirement already satisfied: torch in /usr/local/lib/python3.11/dist-packages (2.5.1+cu124)\n",
            "Requirement already satisfied: torchvision in /usr/local/lib/python3.11/dist-packages (0.20.1+cu124)\n",
            "Requirement already satisfied: numpy in /usr/local/lib/python3.11/dist-packages (1.26.4)\n",
            "Requirement already satisfied: opencv-python in /usr/local/lib/python3.11/dist-packages (4.11.0.86)\n",
            "Requirement already satisfied: matplotlib in /usr/local/lib/python3.11/dist-packages (3.10.0)\n",
            "Requirement already satisfied: cryptography in /usr/local/lib/python3.11/dist-packages (43.0.3)\n",
            "Requirement already satisfied: filelock in /usr/local/lib/python3.11/dist-packages (from torch) (3.17.0)\n",
            "Requirement already satisfied: typing-extensions>=4.8.0 in /usr/local/lib/python3.11/dist-packages (from torch) (4.12.2)\n",
            "Requirement already satisfied: networkx in /usr/local/lib/python3.11/dist-packages (from torch) (3.4.2)\n",
            "Requirement already satisfied: jinja2 in /usr/local/lib/python3.11/dist-packages (from torch) (3.1.5)\n",
            "Requirement already satisfied: fsspec in /usr/local/lib/python3.11/dist-packages (from torch) (2024.10.0)\n",
            "Collecting nvidia-cuda-nvrtc-cu12==12.4.127 (from torch)\n",
            "  Downloading nvidia_cuda_nvrtc_cu12-12.4.127-py3-none-manylinux2014_x86_64.whl.metadata (1.5 kB)\n",
            "Collecting nvidia-cuda-runtime-cu12==12.4.127 (from torch)\n",
            "  Downloading nvidia_cuda_runtime_cu12-12.4.127-py3-none-manylinux2014_x86_64.whl.metadata (1.5 kB)\n",
            "Collecting nvidia-cuda-cupti-cu12==12.4.127 (from torch)\n",
            "  Downloading nvidia_cuda_cupti_cu12-12.4.127-py3-none-manylinux2014_x86_64.whl.metadata (1.6 kB)\n",
            "Collecting nvidia-cudnn-cu12==9.1.0.70 (from torch)\n",
            "  Downloading nvidia_cudnn_cu12-9.1.0.70-py3-none-manylinux2014_x86_64.whl.metadata (1.6 kB)\n",
            "Collecting nvidia-cublas-cu12==12.4.5.8 (from torch)\n",
            "  Downloading nvidia_cublas_cu12-12.4.5.8-py3-none-manylinux2014_x86_64.whl.metadata (1.5 kB)\n",
            "Collecting nvidia-cufft-cu12==11.2.1.3 (from torch)\n",
            "  Downloading nvidia_cufft_cu12-11.2.1.3-py3-none-manylinux2014_x86_64.whl.metadata (1.5 kB)\n",
            "Collecting nvidia-curand-cu12==10.3.5.147 (from torch)\n",
            "  Downloading nvidia_curand_cu12-10.3.5.147-py3-none-manylinux2014_x86_64.whl.metadata (1.5 kB)\n",
            "Collecting nvidia-cusolver-cu12==11.6.1.9 (from torch)\n",
            "  Downloading nvidia_cusolver_cu12-11.6.1.9-py3-none-manylinux2014_x86_64.whl.metadata (1.6 kB)\n",
            "Collecting nvidia-cusparse-cu12==12.3.1.170 (from torch)\n",
            "  Downloading nvidia_cusparse_cu12-12.3.1.170-py3-none-manylinux2014_x86_64.whl.metadata (1.6 kB)\n",
            "Requirement already satisfied: nvidia-nccl-cu12==2.21.5 in /usr/local/lib/python3.11/dist-packages (from torch) (2.21.5)\n",
            "Requirement already satisfied: nvidia-nvtx-cu12==12.4.127 in /usr/local/lib/python3.11/dist-packages (from torch) (12.4.127)\n",
            "Collecting nvidia-nvjitlink-cu12==12.4.127 (from torch)\n",
            "  Downloading nvidia_nvjitlink_cu12-12.4.127-py3-none-manylinux2014_x86_64.whl.metadata (1.5 kB)\n",
            "Requirement already satisfied: triton==3.1.0 in /usr/local/lib/python3.11/dist-packages (from torch) (3.1.0)\n",
            "Requirement already satisfied: sympy==1.13.1 in /usr/local/lib/python3.11/dist-packages (from torch) (1.13.1)\n",
            "Requirement already satisfied: mpmath<1.4,>=1.1.0 in /usr/local/lib/python3.11/dist-packages (from sympy==1.13.1->torch) (1.3.0)\n",
            "Requirement already satisfied: pillow!=8.3.*,>=5.3.0 in /usr/local/lib/python3.11/dist-packages (from torchvision) (11.1.0)\n",
            "Requirement already satisfied: contourpy>=1.0.1 in /usr/local/lib/python3.11/dist-packages (from matplotlib) (1.3.1)\n",
            "Requirement already satisfied: cycler>=0.10 in /usr/local/lib/python3.11/dist-packages (from matplotlib) (0.12.1)\n",
            "Requirement already satisfied: fonttools>=4.22.0 in /usr/local/lib/python3.11/dist-packages (from matplotlib) (4.56.0)\n",
            "Requirement already satisfied: kiwisolver>=1.3.1 in /usr/local/lib/python3.11/dist-packages (from matplotlib) (1.4.8)\n",
            "Requirement already satisfied: packaging>=20.0 in /usr/local/lib/python3.11/dist-packages (from matplotlib) (24.2)\n",
            "Requirement already satisfied: pyparsing>=2.3.1 in /usr/local/lib/python3.11/dist-packages (from matplotlib) (3.2.1)\n",
            "Requirement already satisfied: python-dateutil>=2.7 in /usr/local/lib/python3.11/dist-packages (from matplotlib) (2.8.2)\n",
            "Requirement already satisfied: cffi>=1.12 in /usr/local/lib/python3.11/dist-packages (from cryptography) (1.17.1)\n",
            "Requirement already satisfied: pycparser in /usr/local/lib/python3.11/dist-packages (from cffi>=1.12->cryptography) (2.22)\n",
            "Requirement already satisfied: six>=1.5 in /usr/local/lib/python3.11/dist-packages (from python-dateutil>=2.7->matplotlib) (1.17.0)\n",
            "Requirement already satisfied: MarkupSafe>=2.0 in /usr/local/lib/python3.11/dist-packages (from jinja2->torch) (3.0.2)\n",
            "Downloading nvidia_cublas_cu12-12.4.5.8-py3-none-manylinux2014_x86_64.whl (363.4 MB)\n",
            "\u001b[2K   \u001b[90m━━━━━━━━━━━━━━━━━━━━━━━━━━━━━━━━━━━━━━━━\u001b[0m \u001b[32m363.4/363.4 MB\u001b[0m \u001b[31m4.3 MB/s\u001b[0m eta \u001b[36m0:00:00\u001b[0m\n",
            "\u001b[?25hDownloading nvidia_cuda_cupti_cu12-12.4.127-py3-none-manylinux2014_x86_64.whl (13.8 MB)\n",
            "\u001b[2K   \u001b[90m━━━━━━━━━━━━━━━━━━━━━━━━━━━━━━━━━━━━━━━━\u001b[0m \u001b[32m13.8/13.8 MB\u001b[0m \u001b[31m47.4 MB/s\u001b[0m eta \u001b[36m0:00:00\u001b[0m\n",
            "\u001b[?25hDownloading nvidia_cuda_nvrtc_cu12-12.4.127-py3-none-manylinux2014_x86_64.whl (24.6 MB)\n",
            "\u001b[2K   \u001b[90m━━━━━━━━━━━━━━━━━━━━━━━━━━━━━━━━━━━━━━━━\u001b[0m \u001b[32m24.6/24.6 MB\u001b[0m \u001b[31m27.0 MB/s\u001b[0m eta \u001b[36m0:00:00\u001b[0m\n",
            "\u001b[?25hDownloading nvidia_cuda_runtime_cu12-12.4.127-py3-none-manylinux2014_x86_64.whl (883 kB)\n",
            "\u001b[2K   \u001b[90m━━━━━━━━━━━━━━━━━━━━━━━━━━━━━━━━━━━━━━━━\u001b[0m \u001b[32m883.7/883.7 kB\u001b[0m \u001b[31m47.6 MB/s\u001b[0m eta \u001b[36m0:00:00\u001b[0m\n",
            "\u001b[?25hDownloading nvidia_cudnn_cu12-9.1.0.70-py3-none-manylinux2014_x86_64.whl (664.8 MB)\n",
            "\u001b[2K   \u001b[90m━━━━━━━━━━━━━━━━━━━━━━━━━━━━━━━━━━━━━━━━\u001b[0m \u001b[32m664.8/664.8 MB\u001b[0m \u001b[31m3.0 MB/s\u001b[0m eta \u001b[36m0:00:00\u001b[0m\n",
            "\u001b[?25hDownloading nvidia_cufft_cu12-11.2.1.3-py3-none-manylinux2014_x86_64.whl (211.5 MB)\n",
            "\u001b[2K   \u001b[90m━━━━━━━━━━━━━━━━━━━━━━━━━━━━━━━━━━━━━━━━\u001b[0m \u001b[32m211.5/211.5 MB\u001b[0m \u001b[31m5.8 MB/s\u001b[0m eta \u001b[36m0:00:00\u001b[0m\n",
            "\u001b[?25hDownloading nvidia_curand_cu12-10.3.5.147-py3-none-manylinux2014_x86_64.whl (56.3 MB)\n",
            "\u001b[2K   \u001b[90m━━━━━━━━━━━━━━━━━━━━━━━━━━━━━━━━━━━━━━━━\u001b[0m \u001b[32m56.3/56.3 MB\u001b[0m \u001b[31m14.8 MB/s\u001b[0m eta \u001b[36m0:00:00\u001b[0m\n",
            "\u001b[?25hDownloading nvidia_cusolver_cu12-11.6.1.9-py3-none-manylinux2014_x86_64.whl (127.9 MB)\n",
            "\u001b[2K   \u001b[90m━━━━━━━━━━━━━━━━━━━━━━━━━━━━━━━━━━━━━━━━\u001b[0m \u001b[32m127.9/127.9 MB\u001b[0m \u001b[31m7.9 MB/s\u001b[0m eta \u001b[36m0:00:00\u001b[0m\n",
            "\u001b[?25hDownloading nvidia_cusparse_cu12-12.3.1.170-py3-none-manylinux2014_x86_64.whl (207.5 MB)\n",
            "\u001b[2K   \u001b[90m━━━━━━━━━━━━━━━━━━━━━━━━━━━━━━━━━━━━━━━━\u001b[0m \u001b[32m207.5/207.5 MB\u001b[0m \u001b[31m5.9 MB/s\u001b[0m eta \u001b[36m0:00:00\u001b[0m\n",
            "\u001b[?25hDownloading nvidia_nvjitlink_cu12-12.4.127-py3-none-manylinux2014_x86_64.whl (21.1 MB)\n",
            "\u001b[2K   \u001b[90m━━━━━━━━━━━━━━━━━━━━━━━━━━━━━━━━━━━━━━━━\u001b[0m \u001b[32m21.1/21.1 MB\u001b[0m \u001b[31m92.9 MB/s\u001b[0m eta \u001b[36m0:00:00\u001b[0m\n",
            "\u001b[?25hInstalling collected packages: nvidia-nvjitlink-cu12, nvidia-curand-cu12, nvidia-cufft-cu12, nvidia-cuda-runtime-cu12, nvidia-cuda-nvrtc-cu12, nvidia-cuda-cupti-cu12, nvidia-cublas-cu12, nvidia-cusparse-cu12, nvidia-cudnn-cu12, nvidia-cusolver-cu12\n",
            "  Attempting uninstall: nvidia-nvjitlink-cu12\n",
            "    Found existing installation: nvidia-nvjitlink-cu12 12.5.82\n",
            "    Uninstalling nvidia-nvjitlink-cu12-12.5.82:\n",
            "      Successfully uninstalled nvidia-nvjitlink-cu12-12.5.82\n",
            "  Attempting uninstall: nvidia-curand-cu12\n",
            "    Found existing installation: nvidia-curand-cu12 10.3.6.82\n",
            "    Uninstalling nvidia-curand-cu12-10.3.6.82:\n",
            "      Successfully uninstalled nvidia-curand-cu12-10.3.6.82\n",
            "  Attempting uninstall: nvidia-cufft-cu12\n",
            "    Found existing installation: nvidia-cufft-cu12 11.2.3.61\n",
            "    Uninstalling nvidia-cufft-cu12-11.2.3.61:\n",
            "      Successfully uninstalled nvidia-cufft-cu12-11.2.3.61\n",
            "  Attempting uninstall: nvidia-cuda-runtime-cu12\n",
            "    Found existing installation: nvidia-cuda-runtime-cu12 12.5.82\n",
            "    Uninstalling nvidia-cuda-runtime-cu12-12.5.82:\n",
            "      Successfully uninstalled nvidia-cuda-runtime-cu12-12.5.82\n",
            "  Attempting uninstall: nvidia-cuda-nvrtc-cu12\n",
            "    Found existing installation: nvidia-cuda-nvrtc-cu12 12.5.82\n",
            "    Uninstalling nvidia-cuda-nvrtc-cu12-12.5.82:\n",
            "      Successfully uninstalled nvidia-cuda-nvrtc-cu12-12.5.82\n",
            "  Attempting uninstall: nvidia-cuda-cupti-cu12\n",
            "    Found existing installation: nvidia-cuda-cupti-cu12 12.5.82\n",
            "    Uninstalling nvidia-cuda-cupti-cu12-12.5.82:\n",
            "      Successfully uninstalled nvidia-cuda-cupti-cu12-12.5.82\n",
            "  Attempting uninstall: nvidia-cublas-cu12\n",
            "    Found existing installation: nvidia-cublas-cu12 12.5.3.2\n",
            "    Uninstalling nvidia-cublas-cu12-12.5.3.2:\n",
            "      Successfully uninstalled nvidia-cublas-cu12-12.5.3.2\n",
            "  Attempting uninstall: nvidia-cusparse-cu12\n",
            "    Found existing installation: nvidia-cusparse-cu12 12.5.1.3\n",
            "    Uninstalling nvidia-cusparse-cu12-12.5.1.3:\n",
            "      Successfully uninstalled nvidia-cusparse-cu12-12.5.1.3\n",
            "  Attempting uninstall: nvidia-cudnn-cu12\n",
            "    Found existing installation: nvidia-cudnn-cu12 9.3.0.75\n",
            "    Uninstalling nvidia-cudnn-cu12-9.3.0.75:\n",
            "      Successfully uninstalled nvidia-cudnn-cu12-9.3.0.75\n",
            "  Attempting uninstall: nvidia-cusolver-cu12\n",
            "    Found existing installation: nvidia-cusolver-cu12 11.6.3.83\n",
            "    Uninstalling nvidia-cusolver-cu12-11.6.3.83:\n",
            "      Successfully uninstalled nvidia-cusolver-cu12-11.6.3.83\n",
            "Successfully installed nvidia-cublas-cu12-12.4.5.8 nvidia-cuda-cupti-cu12-12.4.127 nvidia-cuda-nvrtc-cu12-12.4.127 nvidia-cuda-runtime-cu12-12.4.127 nvidia-cudnn-cu12-9.1.0.70 nvidia-cufft-cu12-11.2.1.3 nvidia-curand-cu12-10.3.5.147 nvidia-cusolver-cu12-11.6.1.9 nvidia-cusparse-cu12-12.3.1.170 nvidia-nvjitlink-cu12-12.4.127\n"
          ]
        }
      ],
      "source": [
        "!pip install torch torchvision numpy opencv-python matplotlib cryptography"
      ]
    },
    {
      "cell_type": "code",
      "execution_count": null,
      "metadata": {
        "colab": {
          "base_uri": "https://localhost:8080/"
        },
        "id": "yUEt7IvUJYh0",
        "outputId": "5f76da4c-1a25-4cde-88da-4e439de980d9"
      },
      "outputs": [
        {
          "output_type": "stream",
          "name": "stdout",
          "text": [
            "All libraries loaded successfully!\n"
          ]
        }
      ],
      "source": [
        "import torch\n",
        "import torchvision\n",
        "import numpy as np\n",
        "import cv2\n",
        "import matplotlib.pyplot as plt\n",
        "from cryptography.hazmat.primitives.ciphers import Cipher, algorithms, modes\n",
        "\n",
        "print(\"All libraries loaded successfully!\")"
      ]
    },
    {
      "cell_type": "code",
      "execution_count": null,
      "metadata": {
        "colab": {
          "base_uri": "https://localhost:8080/",
          "height": 521
        },
        "id": "x0jwA81PJi0D",
        "outputId": "4c744c07-b6eb-4ce9-a50d-209b8eaa2c07"
      },
      "outputs": [
        {
          "output_type": "stream",
          "name": "stdout",
          "text": [
            "Downloading https://www.cs.toronto.edu/~kriz/cifar-10-python.tar.gz to ./data/cifar-10-python.tar.gz\n"
          ]
        },
        {
          "output_type": "stream",
          "name": "stderr",
          "text": [
            "100%|██████████| 170M/170M [00:13<00:00, 12.5MB/s]\n"
          ]
        },
        {
          "output_type": "stream",
          "name": "stdout",
          "text": [
            "Extracting ./data/cifar-10-python.tar.gz to ./data\n"
          ]
        },
        {
          "output_type": "stream",
          "name": "stderr",
          "text": [
            "WARNING:matplotlib.image:Clipping input data to the valid range for imshow with RGB data ([0..1] for floats or [0..255] for integers). Got range [-1.0..1.0].\n"
          ]
        },
        {
          "output_type": "display_data",
          "data": {
            "text/plain": [
              "<Figure size 640x480 with 1 Axes>"
            ],
            "image/png": "[encoded data removed]"
          },
          "metadata": {}
        }
      ],
      "source": [
        "import torchvision.transforms as transforms\n",
        "from torchvision.datasets import CIFAR10\n",
        "from torch.utils.data import DataLoader\n",
        "\n",
        "# Define transformations (normalize and convert to tensors)\n",
        "transform = transforms.Compose([\n",
        "    transforms.ToTensor(),\n",
        "    transforms.Normalize((0.5,), (0.5,))\n",
        "])\n",
        "\n",
        "# Load CIFAR-10 dataset\n",
        "dataset = CIFAR10(root='./data', train=True, download=True, transform=transform)\n",
        "dataloader = DataLoader(dataset, batch_size=64, shuffle=True)\n",
        "\n",
        "# Show a sample image\n",
        "sample_image, _ = dataset[0]\n",
        "plt.imshow(sample_image.permute(1, 2, 0))  # Convert CHW to HWC for visualization\n",
        "plt.title(\"Sample Image from CIFAR-10\")\n",
        "plt.show()"
      ]
    },
    {
      "cell_type": "code",
      "execution_count": null,
      "metadata": {
        "colab": {
          "base_uri": "https://localhost:8080/"
        },
        "id": "k5uW1IJZJuij",
        "outputId": "18657179-2e35-47c8-e786-93fb7390d9a7"
      },
      "outputs": [
        {
          "output_type": "stream",
          "name": "stdout",
          "text": [
            "Collecting pqcrypto\n",
            "  Downloading pqcrypto-0.1.3.tar.gz (1.4 MB)\n",
            "\u001b[?25l     \u001b[90m━━━━━━━━━━━━━━━━━━━━━━━━━━━━━━━━━━━━━━━━\u001b[0m \u001b[32m0.0/1.4 MB\u001b[0m \u001b[31m?\u001b[0m eta \u001b[36m-:--:--\u001b[0m\r\u001b[2K     \u001b[90m━━━━━━━━━━━━━━━━━━━━━━━━━━━━━━━━━━━━━━━━\u001b[0m \u001b[32m1.4/1.4 MB\u001b[0m \u001b[31m41.8 MB/s\u001b[0m eta \u001b[36m0:00:00\u001b[0m\n",
            "\u001b[?25h  Installing build dependencies ... \u001b[?25l\u001b[?25hdone\n",
            "  Getting requirements to build wheel ... \u001b[?25l\u001b[?25hdone\n",
            "  Preparing metadata (pyproject.toml) ... \u001b[?25l\u001b[?25hdone\n",
            "Requirement already satisfied: cffi<2.0.0,>=1.14.2 in /usr/local/lib/python3.11/dist-packages (from pqcrypto) (1.17.1)\n",
            "Requirement already satisfied: pycparser in /usr/local/lib/python3.11/dist-packages (from cffi<2.0.0,>=1.14.2->pqcrypto) (2.22)\n",
            "Building wheels for collected packages: pqcrypto\n",
            "  Building wheel for pqcrypto (pyproject.toml) ... \u001b[?25l\u001b[?25hdone\n",
            "  Created wheel for pqcrypto: filename=pqcrypto-0.1.3-cp311-cp311-manylinux_2_35_x86_64.whl size=38989 sha256=380bb61d67bcdb115fc9ff859110cc1f99079e43afc07386bcbe5c97013f8696\n",
            "  Stored in directory: /root/.cache/pip/wheels/fa/dc/d9/40ea378020b3a33e7c3d8907f61e2696b8a128f547d3e9abb1\n",
            "Successfully built pqcrypto\n",
            "Installing collected packages: pqcrypto\n",
            "Successfully installed pqcrypto-0.1.3\n"
          ]
        }
      ],
      "source": [
        "!pip install pqcrypto"
      ]
    },
    {
      "cell_type": "code",
      "execution_count": null,
      "metadata": {
        "colab": {
          "base_uri": "https://localhost:8080/"
        },
        "id": "N3TNKgeSJ5yq",
        "outputId": "79bf8e4d-4137-41ed-a175-3885e135e064"
      },
      "outputs": [
        {
          "output_type": "stream",
          "name": "stdout",
          "text": [
            "Generator(\n",
            "  (main): Sequential(\n",
            "    (0): Conv2d(3, 64, kernel_size=(3, 3), stride=(1, 1), padding=(1, 1))\n",
            "    (1): ReLU()\n",
            "    (2): Conv2d(64, 128, kernel_size=(3, 3), stride=(1, 1), padding=(1, 1))\n",
            "    (3): ReLU()\n",
            "    (4): Conv2d(128, 3, kernel_size=(3, 3), stride=(1, 1), padding=(1, 1))\n",
            "    (5): Tanh()\n",
            "  )\n",
            ")\n"
          ]
        }
      ],
      "source": [
        "import torch\n",
        "import torch.nn as nn\n",
        "import torch.optim as optim\n",
        "\n",
        "# Define the Generator\n",
        "class Generator(nn.Module):\n",
        "    def __init__(self):\n",
        "        super(Generator, self).__init__()\n",
        "        self.main = nn.Sequential(\n",
        "            nn.Conv2d(3, 64, kernel_size=3, stride=1, padding=1),  # Input Image\n",
        "            nn.ReLU(),\n",
        "            nn.Conv2d(64, 128, kernel_size=3, stride=1, padding=1),\n",
        "            nn.ReLU(),\n",
        "            nn.Conv2d(128, 3, kernel_size=3, stride=1, padding=1),  # Output \"Encrypted\" Image\n",
        "            nn.Tanh()\n",
        "        )\n",
        "\n",
        "    def forward(self, x):\n",
        "        return self.main(x)\n",
        "\n",
        "generator = Generator()\n",
        "print(generator)"
      ]
    },
    {
      "cell_type": "code",
      "execution_count": null,
      "metadata": {
        "colab": {
          "base_uri": "https://localhost:8080/"
        },
        "id": "FCwT7tkMKhtb",
        "outputId": "48ad1142-29d4-46b7-91ec-7d3f86724d80"
      },
      "outputs": [
        {
          "output_type": "stream",
          "name": "stdout",
          "text": [
            "Discriminator(\n",
            "  (main): Sequential(\n",
            "    (0): Conv2d(3, 64, kernel_size=(3, 3), stride=(1, 1), padding=(1, 1))\n",
            "    (1): LeakyReLU(negative_slope=0.2)\n",
            "    (2): Conv2d(64, 128, kernel_size=(3, 3), stride=(1, 1), padding=(1, 1))\n",
            "    (3): LeakyReLU(negative_slope=0.2)\n",
            "    (4): Flatten(start_dim=1, end_dim=-1)\n",
            "    (5): Linear(in_features=131072, out_features=1, bias=True)\n",
            "    (6): Sigmoid()\n",
            "  )\n",
            ")\n"
          ]
        }
      ],
      "source": [
        "class Discriminator(nn.Module):\n",
        "    def __init__(self):\n",
        "        super(Discriminator, self).__init__()\n",
        "        self.main = nn.Sequential(\n",
        "            nn.Conv2d(3, 64, kernel_size=3, stride=1, padding=1),\n",
        "            nn.LeakyReLU(0.2),\n",
        "            nn.Conv2d(64, 128, kernel_size=3, stride=1, padding=1),\n",
        "            nn.LeakyReLU(0.2),\n",
        "            nn.Flatten(),\n",
        "            nn.Linear(128 * 32 * 32, 1),  # CIFAR-10 images are 32x32\n",
        "            nn.Sigmoid()\n",
        "        )\n",
        "\n",
        "    def forward(self, x):\n",
        "        return self.main(x)\n",
        "\n",
        "discriminator = Discriminator()\n",
        "print(discriminator)"
      ]
    },
    {
      "cell_type": "code",
      "execution_count": null,
      "metadata": {
        "id": "7BS_ZTTbKnvu"
      },
      "outputs": [],
      "source": [
        "criterion = nn.BCELoss()  # Binary Cross-Entropy Loss\n",
        "\n",
        "# Optimizers\n",
        "lr = 0.0002  # Learning Rate\n",
        "generator_optimizer = optim.Adam(generator.parameters(), lr=lr, betas=(0.5, 0.999))\n",
        "discriminator_optimizer = optim.Adam(discriminator.parameters(), lr=lr, betas=(0.5, 0.999))"
      ]
    },
    {
      "cell_type": "code",
      "execution_count": null,
      "metadata": {
        "id": "yRzPJ7FtN3A-"
      },
      "outputs": [],
      "source": [
        "# Save Generator & Discriminator after each epoch\n",
        "torch.save(generator.state_dict(), f\"generator_epoch_{epoch+1}.pth\")\n",
        "torch.save(discriminator.state_dict(), f\"discriminator_epoch_{epoch+1}.pth\")"
      ]
    },
    {
      "cell_type": "code",
      "execution_count": null,
      "metadata": {
        "id": "57ULTsa8N6Mk"
      },
      "outputs": [],
      "source": [
        "import glob\n",
        "\n",
        "# Find the latest checkpoint\n",
        "generator_files = sorted(glob.glob(\"generator_epoch_*.pth\"))\n",
        "discriminator_files = sorted(glob.glob(\"discriminator_epoch_*.pth\"))\n",
        "\n",
        "if generator_files and discriminator_files:\n",
        "    last_epoch = int(generator_files[-1].split(\"_\")[-1].split(\".\")[0])\n",
        "\n",
        "    generator.load_state_dict(torch.load(generator_files[-1]))\n",
        "    discriminator.load_state_dict(torch.load(discriminator_files[-1]))\n",
        "\n",
        "    print(f\"Resuming training from Epoch {last_epoch+1}...\")\n",
        "else:\n",
        "    last_epoch = 0  # If no checkpoint found, start from scratch\n",
        "    print(\"No previous checkpoint found. Starting from scratch.\")"
      ]
    },
    {
      "cell_type": "code",
      "execution_count": null,
      "metadata": {
        "id": "UWZNXB4DN-tl"
      },
      "outputs": [],
      "source": [
        "for epoch in range(last_epoch, num_epochs):  # Start from last saved epoch\n",
        "    for i, (real_images, _) in enumerate(dataloader):\n",
        "        real_images = real_images.to(device)\n",
        "\n",
        "        # Train Discriminator\n",
        "        discriminator_optimizer.zero_grad()\n",
        "        real_outputs = discriminator(real_images).view(-1)\n",
        "        real_loss = criterion(real_outputs, torch.full_like(real_outputs, real_label, device=device))\n",
        "\n",
        "        fake_images = generator(real_images).detach()\n",
        "        fake_outputs = discriminator(fake_images).view(-1)\n",
        "        fake_loss = criterion(fake_outputs, torch.full_like(fake_outputs, fake_label, device=device))\n",
        "\n",
        "        d_loss = real_loss + fake_loss\n",
        "        d_loss.backward()\n",
        "        discriminator_optimizer.step()\n",
        "\n",
        "        # Train Generator\n",
        "        generator_optimizer.zero_grad()\n",
        "        fake_images = generator(real_images)\n",
        "        fake_outputs = discriminator(fake_images).view(-1)\n",
        "        g_loss = criterion(fake_outputs, torch.full_like(fake_outputs, real_label, device=device))\n",
        "\n",
        "        g_loss.backward()\n",
        "        generator_optimizer.step()\n",
        "\n",
        "        if i % 100 == 0:\n",
        "            print(f\"Epoch [{epoch+1}/{num_epochs}], Step [{i}/{len(dataloader)}], \"\n",
        "                  f\"D Loss: {d_loss.item():.4f}, G Loss: {g_loss.item():.4f}\")\n",
        "\n",
        "    # Save model again\n",
        "    torch.save(generator.state_dict(), f\"generator_epoch_{epoch+1}.pth\")\n",
        "    torch.save(discriminator.state_dict(), f\"discriminator_epoch_{epoch+1}.pth\")\n",
        "\n",
        "print(\"Training Resumed & Completed!\")"
      ]
    },
    {
      "cell_type": "code",
      "execution_count": null,
      "metadata": {
        "id": "wKaDyQe9OBHC"
      },
      "outputs": [],
      "source": [
        "function preventDisconnect() {\n",
        "    document.querySelector(\"#connect\").click();\n",
        "}\n",
        "setInterval(preventDisconnect, 60000);"
      ]
    },
    {
      "cell_type": "code",
      "source": [
        "import glob\n",
        "\n",
        "# List all saved models\n",
        "generator_files = sorted(glob.glob(\"generator_epoch_*.pth\"))\n",
        "discriminator_files = sorted(glob.glob(\"discriminator_epoch_*.pth\"))\n",
        "\n",
        "print(\"Found Generator Checkpoints:\", generator_files)\n",
        "print(\"Found Discriminator Checkpoints:\", discriminator_files)"
      ],
      "metadata": {
        "id": "Ou-bx3_dED89"
      },
      "execution_count": null,
      "outputs": []
    },
    {
      "cell_type": "code",
      "source": [
        "if generator_files and discriminator_files:\n",
        "    # Find the highest available epoch\n",
        "    last_epoch = max([int(f.split(\"_\")[-1].split(\".\")[0]) for f in generator_files])\n",
        "\n",
        "    # Load the latest checkpoint\n",
        "    generator.load_state_dict(torch.load(f\"generator_epoch_{last_epoch}.pth\"))\n",
        "    discriminator.load_state_dict(torch.load(f\"discriminator_epoch_{last_epoch}.pth\"))\n",
        "\n",
        "    print(f\"Resuming training from Epoch {last_epoch+1}...\")\n",
        "else:\n",
        "    last_epoch = 0\n",
        "    print(\"No checkpoint found. Starting from scratch.\")"
      ],
      "metadata": {
        "id": "dfAvNTWCEJWa"
      },
      "execution_count": null,
      "outputs": []
    },
    {
      "cell_type": "code",
      "source": [
        "import os\n",
        "\n",
        "# Check if there are saved model files\n",
        "model_files = [f for f in os.listdir() if f.endswith(\".pth\")]\n",
        "print(\"Saved model files:\", model_files)"
      ],
      "metadata": {
        "id": "wu1GiQB2EWJ8"
      },
      "execution_count": null,
      "outputs": []
    },
    {
      "cell_type": "code",
      "source": [
        "import os\n",
        "\n",
        "model_files = [f for f in os.listdir() if f.endswith(\".pth\")]\n",
        "print(\"Available model files:\", model_files)"
      ],
      "metadata": {
        "id": "uDvRC2_GEonk"
      },
      "execution_count": null,
      "outputs": []
    },
    {
      "cell_type": "code",
      "source": [
        "from torchvision.models import resnet18\n",
        "\n",
        "# Load a simple pre-trained model to act as a starting point\n",
        "generator = resnet18(pretrained=True)\n",
        "print(\"Using pre-trained model as generator.\")"
      ],
      "metadata": {
        "id": "eudJMoymEsL7"
      },
      "execution_count": null,
      "outputs": []
    },
    {
      "cell_type": "code",
      "source": [
        "import torch\n",
        "import torch.nn as nn\n",
        "import torchvision.transforms as transforms\n",
        "from PIL import Image\n",
        "import numpy as np\n",
        "\n",
        "# Ensure model is on GPU if available\n",
        "device = torch.device(\"cuda\" if torch.cuda.is_available() else \"cpu\")\n",
        "generator.to(device)\n",
        "\n",
        "# Define transformation for input images\n",
        "transform = transforms.Compose([\n",
        "    transforms.Resize((32, 32)),  # Resize to match CIFAR-10 dimensions\n",
        "    transforms.ToTensor(),\n",
        "    transforms.Normalize((0.5,), (0.5,))  # Normalize between -1 and 1\n",
        "])\n",
        "\n",
        "# Encryption function using generator\n",
        "def encrypt_image(image_path, encryption_key):\n",
        "    image = Image.open(image_path).convert(\"RGB\")\n",
        "    image = transform(image).unsqueeze(0).to(device)  # Add batch dimension\n",
        "\n",
        "    # Convert encryption key into a tensor\n",
        "    key_tensor = torch.tensor(encryption_key, dtype=torch.float32).to(device)\n",
        "\n",
        "    # Combine image and key\n",
        "    encrypted_image = generator(image + key_tensor)  # Pass through generator\n",
        "\n",
        "    return encrypted_image\n",
        "\n",
        "# Example usage\n",
        "encryption_key = np.random.rand(3, 32, 32)  # Random key (same size as image)\n",
        "encrypted_output = encrypt_image(\"sample_image.jpg\", encryption_key)\n",
        "\n",
        "# Save the encrypted image\n",
        "from torchvision.utils import save_image\n",
        "save_image(encrypted_output, \"encrypted_image.png\")\n",
        "\n",
        "print(\"Encryption complete! Image saved as 'encrypted_image.png'.\")"
      ],
      "metadata": {
        "id": "mb0w8jeqE5qj"
      },
      "execution_count": null,
      "outputs": []
    },
    {
      "cell_type": "code",
      "source": [
        "from google.colab import files\n",
        "\n",
        "uploaded = files.upload()  # This will prompt you to upload an image"
      ],
      "metadata": {
        "id": "T6tEgTOAFAEq"
      },
      "execution_count": null,
      "outputs": []
    },
    {
      "cell_type": "code",
      "source": [
        "import torch\n",
        "import torch.nn as nn\n",
        "import torchvision.transforms as transforms\n",
        "from PIL import Image\n",
        "import numpy as np\n",
        "\n",
        "# Ensure model is on GPU if available\n",
        "device = torch.device(\"cuda\" if torch.cuda.is_available() else \"cpu\")\n",
        "generator.to(device)\n",
        "\n",
        "# Define transformation for input images\n",
        "transform = transforms.Compose([\n",
        "    transforms.Resize((32, 32)),  # Resize to match CIFAR-10 dimensions\n",
        "    transforms.ToTensor(),\n",
        "    transforms.Normalize((0.5,), (0.5,))  # Normalize between -1 and 1\n",
        "])\n",
        "\n",
        "# Encryption function using generator\n",
        "def encrypt_image(image_path, encryption_key):\n",
        "    image = Image.open(image_path).convert(\"RGB\")\n",
        "    image = transform(image).unsqueeze(0).to(device)  # Add batch dimension\n",
        "\n",
        "    # Convert encryption key into a tensor\n",
        "    key_tensor = torch.tensor(encryption_key, dtype=torch.float32).to(device)\n",
        "\n",
        "    # Combine image and key\n",
        "    encrypted_image = generator(image + key_tensor)  # Pass through generator\n",
        "\n",
        "    return encrypted_image\n",
        "\n",
        "# Example usage\n",
        "encryption_key = np.random.rand(3, 32, 32)  # Random key (same size as image)\n",
        "encrypted_output = encrypt_image(\"Bhavdeep Singh Nijhawan.jpg\", encryption_key)\n",
        "\n",
        "# Save the encrypted image\n",
        "from torchvision.utils import save_image\n",
        "save_image(encrypted_output, \"encrypted_image.png\")\n",
        "\n",
        "print(\"Encryption complete! Image saved as 'encrypted_image.png'.\")"
      ],
      "metadata": {
        "id": "lq86JyquFKkM"
      },
      "execution_count": null,
      "outputs": []
    },
    {
      "cell_type": "code",
      "source": [
        "print(generator)"
      ],
      "metadata": {
        "id": "IEaBBB0PFWxE"
      },
      "execution_count": null,
      "outputs": []
    },
    {
      "cell_type": "code",
      "source": [
        "from PIL import Image\n",
        "import torchvision.transforms as transforms\n",
        "\n",
        "# Load and preprocess image\n",
        "image_path = \"Bhavdeep Singh Nijhawan.jpg\"\n",
        "image = Image.open(image_path).convert(\"RGB\")\n",
        "\n",
        "# Transform: Resize to 224x224 and Normalize\n",
        "transform = transforms.Compose([\n",
        "    transforms.Resize((224, 224)),  # ResNet needs at least 224x224\n",
        "    transforms.ToTensor(),\n",
        "    transforms.Normalize((0.5,), (0.5,))\n",
        "])\n",
        "\n",
        "input_image = transform(image).unsqueeze(0)  # Add batch dimension\n",
        "\n",
        "# Encrypt using the generator\n",
        "encrypted_output = generator(input_image.to(device))"
      ],
      "metadata": {
        "id": "VAWq3tErFpeF"
      },
      "execution_count": null,
      "outputs": []
    },
    {
      "cell_type": "code",
      "source": [
        "import torch\n",
        "import torchvision.transforms as transforms\n",
        "from PIL import Image\n",
        "import numpy as np\n",
        "import matplotlib.pyplot as plt\n",
        "from torchvision import models\n",
        "\n",
        "# Load pre-trained generator (ResNet architecture as a generator)\n",
        "generator = models.resnet18(pretrained=True)  # You can use resnet18 or any other ResNet model\n",
        "generator.fc = torch.nn.Linear(generator.fc.in_features, 3 * 224 * 224)  # Adjust the output layer to match image size (3x224x224)\n",
        "\n",
        "# Load your checkpoint\n",
        "generator.load_state_dict(torch.load(\"generator_checkpoint.pth\", map_location=torch.device(\"cuda\" if torch.cuda.is_available() else \"cpu\")))\n",
        "generator.eval()  # Set to evaluation mode\n",
        "\n",
        "device = torch.device(\"cuda\" if torch.cuda.is_available() else \"cpu\")\n",
        "generator.to(device)\n",
        "\n",
        "# Load and preprocess the image\n",
        "image_path = \"Bhavdeep Singh Nijhawan.jpg\"  # Update with your actual image\n",
        "image = Image.open(image_path).convert(\"RGB\")\n",
        "\n",
        "# Transform: Resize, Normalize, and Convert to Tensor\n",
        "transform = transforms.Compose([\n",
        "    transforms.Resize((224, 224)),  # ResNet needs 224x224\n",
        "    transforms.ToTensor(),\n",
        "    transforms.Normalize((0.5,), (0.5,))\n",
        "])\n",
        "\n",
        "input_image = transform(image).unsqueeze(0).to(device)  # Add batch dimension and move to device\n",
        "\n",
        "# Encrypt using the generator\n",
        "with torch.no_grad():  # No gradients needed\n",
        "    encrypted_output = generator(input_image)\n",
        "\n",
        "# Convert tensor output to image\n",
        "encrypted_output = encrypted_output.squeeze(0).cpu().detach().numpy()  # Remove batch dim & move to CPU\n",
        "encrypted_output = np.transpose(encrypted_output, (1, 2, 0))  # Convert to (H, W, C)\n",
        "\n",
        "# Denormalize (if needed) and Clip values to [0,1]\n",
        "encrypted_output = (encrypted_output * 0.5) + 0.5  # Reverse normalization\n",
        "encrypted_output = np.clip(encrypted_output, 0, 1)\n",
        "\n",
        "# Save and display the encrypted image\n",
        "plt.imsave(\"encrypted_output.png\", encrypted_output)\n",
        "plt.imshow(encrypted_output)\n",
        "plt.axis(\"off\")\n",
        "plt.title(\"Encrypted Image\")\n",
        "plt.show()"
      ],
      "metadata": {
        "id": "7rHw0BO1F9Is"
      },
      "execution_count": null,
      "outputs": []
    },
    {
      "cell_type": "code",
      "source": [
        "import torch\n",
        "import torch.nn as nn\n",
        "import torchvision.models as models\n",
        "\n",
        "# Define ResNet-based Generator (if not already defined)\n",
        "class ResNetGenerator(nn.Module):\n",
        "    def __init__(self):\n",
        "        super(ResNetGenerator, self).__init__()\n",
        "        self.resnet = models.resnet18(pretrained=False)  # Use resnet18 or other ResNet versions\n",
        "        self.resnet.fc = nn.Linear(512, 512)  # Adjust output layer as per encryption needs\n",
        "\n",
        "    def forward(self, x):\n",
        "        return self.resnet(x)\n",
        "\n",
        "# Instantiate the generator\n",
        "generator = ResNetGenerator()\n",
        "\n",
        "# Load pre-trained model weights (Make sure the file exists)\n",
        "checkpoint_path = \"generator_checkpoint.pth\"\n",
        "generator.load_state_dict(torch.load(checkpoint_path, map_location=torch.device(\"cuda\" if torch.cuda.is_available() else \"cpu\")))\n",
        "\n",
        "generator.eval()  # Set to evaluation mode\n",
        "generator.to(torch.device(\"cuda\" if torch.cuda.is_available() else \"cpu\"))"
      ],
      "metadata": {
        "id": "CJYG1GgmGC6f"
      },
      "execution_count": null,
      "outputs": []
    },
    {
      "cell_type": "code",
      "source": [
        "import os\n",
        "\n",
        "checkpoint_path = \"generator_checkpoint.pth\"\n",
        "\n",
        "if not os.path.exists(checkpoint_path):\n",
        "    print(f\"Error: File '{checkpoint_path}' not found!\")\n",
        "else:\n",
        "    print(f\"Checkpoint found: '{checkpoint_path}'\")"
      ],
      "metadata": {
        "id": "TIuEO-ZPGMmk"
      },
      "execution_count": null,
      "outputs": []
    },
    {
      "cell_type": "code",
      "source": [
        "torch.save(generator.state_dict(), \"generator_checkpoint.pth\")"
      ],
      "metadata": {
        "id": "Z-QOKWGwGTGL"
      },
      "execution_count": null,
      "outputs": []
    },
    {
      "cell_type": "code",
      "source": [
        "import torch\n",
        "import torchvision.models as models\n",
        "\n",
        "# Define device\n",
        "device = torch.device(\"cuda\" if torch.cuda.is_available() else \"cpu\")\n",
        "\n",
        "# Load a pretrained ResNet model\n",
        "generator = models.resnet18(pretrained=True)  # Use resnet50 or resnet101 if needed\n",
        "\n",
        "# Modify the final layer to match the expected output size\n",
        "generator.fc = torch.nn.Linear(generator.fc.in_features, 3 * 224 * 224)  # Adjust as needed\n",
        "\n",
        "# Move to GPU if available\n",
        "generator.to(device)\n",
        "generator.eval()\n",
        "\n",
        "# Save the pretrained model as a new checkpoint\n",
        "torch.save(generator.state_dict(), \"generator_checkpoint.pth\")\n",
        "\n",
        "print(\"✅ Pretrained model downloaded and saved as 'generator_checkpoint.pth'.\")\n"
      ],
      "metadata": {
        "id": "1I2cmBP7Gc-M"
      },
      "execution_count": null,
      "outputs": []
    },
    {
      "cell_type": "code",
      "source": [
        "import torch\n",
        "import torchvision.models as models\n",
        "\n",
        "# Define device\n",
        "device = torch.device(\"cuda\" if torch.cuda.is_available() else \"cpu\")\n",
        "\n",
        "# Load the pretrained model\n",
        "generator = models.resnet18()  # Use the same model type as before\n",
        "generator.fc = torch.nn.Linear(generator.fc.in_features, 3 * 224 * 224)  # Adjust output size\n",
        "\n",
        "# Load saved weights\n",
        "generator.load_state_dict(torch.load(\"generator_checkpoint.pth\", map_location=device))\n",
        "\n",
        "# Move model to the correct device\n",
        "generator.to(device)\n",
        "generator.eval()\n",
        "\n",
        "print(\"✅ Pretrained generator loaded successfully!\")"
      ],
      "metadata": {
        "id": "13XP5bpLGkUq"
      },
      "execution_count": null,
      "outputs": []
    },
    {
      "cell_type": "code",
      "source": [
        "from PIL import Image\n",
        "import torchvision.transforms as transforms\n",
        "\n",
        "# Load image\n",
        "image_path = \"Bhavdeep Singh Nijhawan.jpg\"  # Change to your image path\n",
        "image = Image.open(image_path).convert(\"RGB\")\n",
        "\n",
        "# Transform image\n",
        "transform = transforms.Compose([\n",
        "    transforms.Resize((224, 224)),  # Adjust based on model input size\n",
        "    transforms.ToTensor()\n",
        "])\n",
        "\n",
        "input_tensor = transform(image).unsqueeze(0).to(device)  # Add batch dimension\n",
        "\n",
        "# Generate encrypted output\n",
        "with torch.no_grad():\n",
        "    encrypted_output = generator(input_tensor)\n",
        "\n",
        "# Convert to image format\n",
        "encrypted_image = encrypted_output.view(3, 224, 224).cpu().detach()\n",
        "encrypted_image = transforms.ToPILImage()(encrypted_image)\n",
        "\n",
        "# Save encrypted image\n",
        "encrypted_image.save(\"encrypted_output.jpg\")\n",
        "\n",
        "print(\"✅ Image encrypted and saved as 'encrypted_output.jpg'\")"
      ],
      "metadata": {
        "id": "SMjnU2icGn0O"
      },
      "execution_count": null,
      "outputs": []
    },
    {
      "cell_type": "code",
      "source": [
        "from IPython.display import display\n",
        "from PIL import Image\n",
        "\n",
        "encrypted_img = Image.open(\"encrypted_output.jpg\")\n",
        "display(encrypted_img)"
      ],
      "metadata": {
        "id": "RNRUqmSeG6mz"
      },
      "execution_count": null,
      "outputs": []
    },
    {
      "cell_type": "code",
      "source": [
        "print(encrypted_img.size, encrypted_img.mode)"
      ],
      "metadata": {
        "id": "kyUKV4hiG8rR"
      },
      "execution_count": null,
      "outputs": []
    },
    {
      "cell_type": "code",
      "source": [
        "import os\n",
        "import requests\n",
        "import zipfile\n",
        "from torchvision import datasets, transforms\n",
        "from torch.utils.data import DataLoader\n",
        "\n",
        "# Define dataset URL and paths\n",
        "CASIA_URL = \"https://some-dataset-url.com/CASIA2.zip\"  # Placeholder URL\n",
        "dataset_path = \"./CASIA2\"\n",
        "zip_path = \"./CASIA2.zip\"\n",
        "\n",
        "# Function to download the dataset\n",
        "def download_dataset():\n",
        "    if not os.path.exists(dataset_path):\n",
        "        print(\"Downloading CASIA v2 dataset...\")\n",
        "        response = requests.get(CASIA_URL, stream=True)\n",
        "        with open(zip_path, \"wb\") as f:\n",
        "            for chunk in response.iter_content(chunk_size=1024):\n",
        "                if chunk:\n",
        "                    f.write(chunk)\n",
        "        print(\"Download complete. Extracting...\")\n",
        "        with zipfile.ZipFile(zip_path, \"r\") as zip_ref:\n",
        "            zip_ref.extractall(\"./\")\n",
        "        print(\"Extraction complete.\")\n",
        "    else:\n",
        "        print(\"Dataset already exists.\")\n",
        "\n",
        "# Call function to download dataset\n",
        "download_dataset()\n",
        "\n",
        "# Define transformations\n",
        "transform = transforms.Compose([\n",
        "    transforms.Resize((256, 256)),\n",
        "    transforms.ToTensor(),\n",
        "])\n",
        "\n",
        "# Load dataset\n",
        "dataset = datasets.ImageFolder(root=dataset_path, transform=transform)\n",
        "dataloader = DataLoader(dataset, batch_size=32, shuffle=True)\n",
        "\n",
        "print(\"Dataset loaded successfully.\")"
      ],
      "metadata": {
        "id": "bYNTEMvfIWAR"
      },
      "execution_count": null,
      "outputs": []
    },
    {
      "cell_type": "code",
      "source": [
        "from google.colab import drive\n",
        "drive.mount('/content/drive')"
      ],
      "metadata": {
        "id": "4FMfXcFJcs1y"
      },
      "execution_count": null,
      "outputs": []
    },
    {
      "cell_type": "code",
      "source": [
        "import os\n",
        "\n",
        "path = \"/content/drive/MyDrive/Colab Notebooks\"\n",
        "print(os.listdir(path))  # This will list all files in the \"Colab Notebooks\" folder"
      ],
      "metadata": {
        "id": "fR4zNlgYc3Rp"
      },
      "execution_count": null,
      "outputs": []
    },
    {
      "cell_type": "code",
      "source": [
        "import zipfile\n",
        "import os\n",
        "\n",
        "zip_path = \"/content/drive/MyDrive/Colab Notebooks/CASIA2.zip\"  # Path to the ZIP file\n",
        "extract_path = \"/content/CASIA2/\"  # Destination folder in Colab\n",
        "\n",
        "# Extract the ZIP file\n",
        "with zipfile.ZipFile(zip_path, 'r') as zip_ref:\n",
        "    zip_ref.extractall(extract_path)\n",
        "\n",
        "# Verify the extracted contents\n",
        "print(\"Extraction completed. Extracted files:\")\n",
        "print(os.listdir(extract_path))"
      ],
      "metadata": {
        "id": "OSjtP0gNdg9A"
      },
      "execution_count": null,
      "outputs": []
    },
    {
      "cell_type": "code",
      "source": [
        "for root, dirs, files in os.walk(extract_path):\n",
        "    print(root, len(files))  # This will show the number of files in each folder"
      ],
      "metadata": {
        "id": "GE9iynKud8UK"
      },
      "execution_count": null,
      "outputs": []
    },
    {
      "cell_type": "code",
      "source": [
        "import os\n",
        "import cv2\n",
        "import torch\n",
        "import torchvision.transforms as transforms\n",
        "from tqdm import tqdm\n",
        "from PIL import Image\n",
        "\n",
        "# Define paths\n",
        "data_dir = \"/content/CASIA2\"\n",
        "output_dir = \"/content/CASIA2_Preprocessed\"\n",
        "os.makedirs(output_dir, exist_ok=True)\n",
        "\n",
        "# Define transform (Resize + Normalize + Convert to Tensor)\n",
        "transform = transforms.Compose([\n",
        "    transforms.Resize((256, 256)),\n",
        "    transforms.ToTensor(),\n",
        "    transforms.Normalize(mean=[0.5, 0.5, 0.5], std=[0.5, 0.5, 0.5])\n",
        "])\n",
        "\n",
        "def preprocess_images(input_folder, output_folder):\n",
        "    os.makedirs(output_folder, exist_ok=True)\n",
        "    images = os.listdir(input_folder)\n",
        "\n",
        "    for img_name in tqdm(images, desc=f\"Processing {input_folder}\"):\n",
        "        img_path = os.path.join(input_folder, img_name)\n",
        "        save_path = os.path.join(output_folder, img_name)\n",
        "\n",
        "        try:\n",
        "            image = Image.open(img_path).convert(\"RGB\")\n",
        "            image = transform(image)\n",
        "            torch.save(image, save_path.replace(\".jpg\", \".pt\"))  # Save as tensor\n",
        "        except Exception as e:\n",
        "            print(f\"Skipping {img_name}: {e}\")\n",
        "\n",
        "# Process authentic and tampered images\n",
        "preprocess_images(os.path.join(data_dir, \"Au\"), os.path.join(output_dir, \"Au\"))\n",
        "preprocess_images(os.path.join(data_dir, \"Tp\"), os.path.join(output_dir, \"Tp\"))\n",
        "\n",
        "print(\"✅ Preprocessing completed! All images are resized and saved as tensors.\")"
      ],
      "metadata": {
        "id": "rgoFiYG8eNyc"
      },
      "execution_count": null,
      "outputs": []
    },
    {
      "cell_type": "code",
      "source": [
        "import os\n",
        "import cv2\n",
        "import numpy as np\n",
        "import random\n",
        "from tqdm import tqdm\n",
        "\n",
        "def add_gaussian_noise(image):\n",
        "    row, col, ch = image.shape\n",
        "    mean = 0\n",
        "    sigma = random.randint(10, 50)\n",
        "    gauss = np.random.normal(mean, sigma, (row, col, ch)).astype('uint8')\n",
        "    noisy = cv2.add(image, gauss)\n",
        "    return noisy\n",
        "\n",
        "def apply_blurring(image):\n",
        "    ksize = random.choice([3, 5, 7])\n",
        "    return cv2.GaussianBlur(image, (ksize, ksize), 0)\n",
        "\n",
        "def copy_move_forgery(image):\n",
        "    h, w, _ = image.shape\n",
        "    x, y = random.randint(0, w//2), random.randint(0, h//2)\n",
        "    patch = image[y:y+50, x:x+50].copy()\n",
        "    x_new, y_new = random.randint(0, w-50), random.randint(0, h-50)\n",
        "    tampered = image.copy()\n",
        "    tampered[y_new:y_new+50, x_new:x_new+50] = patch\n",
        "    return tampered\n",
        "\n",
        "def create_augmented_dataset(original_dir, output_dir, num_augmentations=3):\n",
        "    if not os.path.exists(output_dir):\n",
        "        os.makedirs(output_dir)\n",
        "\n",
        "    for filename in tqdm(os.listdir(original_dir)):\n",
        "        if filename.endswith(('.jpg', '.png', '.jpeg')):\n",
        "            img_path = os.path.join(original_dir, filename)\n",
        "            image = cv2.imread(img_path)\n",
        "\n",
        "            for i in range(num_augmentations):\n",
        "                augmented_image = random.choice([add_gaussian_noise, apply_blurring, copy_move_forgery])(image)\n",
        "                output_path = os.path.join(output_dir, f\"tampered_{i}_{filename}\")\n",
        "                cv2.imwrite(output_path, augmented_image)\n",
        "\n",
        "# Define paths\n",
        "original_tampered_dir = \"/content/CASIA2/Tp\"  # Existing tampered images\n",
        "tampered_output_dir = \"/content/CASIA2/Tp_Augmented\"  # New augmented dataset\n",
        "\n",
        "# Run augmentation\n",
        "create_augmented_dataset(original_tampered_dir, tampered_output_dir)\n",
        "print(\"✅ Augmented tampered dataset created successfully!\")"
      ],
      "metadata": {
        "id": "uQNdZFA0fV6c"
      },
      "execution_count": null,
      "outputs": []
    },
    {
      "cell_type": "code",
      "source": [
        "import torch\n",
        "import torch.nn as nn\n",
        "import torch.optim as optim\n",
        "import torchvision.transforms as transforms\n",
        "from torchvision.utils import save_image\n",
        "from torch.utils.data import DataLoader, Dataset\n",
        "\n",
        "# Generator Model (U-Net Inspired)\n",
        "class Generator(nn.Module):\n",
        "    def __init__(self):\n",
        "        super(Generator, self).__init__()\n",
        "        self.encoder = nn.Sequential(\n",
        "            nn.Conv2d(3, 64, kernel_size=4, stride=2, padding=1),\n",
        "            nn.LeakyReLU(0.2, inplace=True),\n",
        "            nn.Conv2d(64, 128, kernel_size=4, stride=2, padding=1),\n",
        "            nn.BatchNorm2d(128),\n",
        "            nn.LeakyReLU(0.2, inplace=True),\n",
        "            nn.Conv2d(128, 256, kernel_size=4, stride=2, padding=1),\n",
        "            nn.BatchNorm2d(256),\n",
        "            nn.LeakyReLU(0.2, inplace=True)\n",
        "        )\n",
        "\n",
        "        self.decoder = nn.Sequential(\n",
        "            nn.ConvTranspose2d(256, 128, kernel_size=4, stride=2, padding=1),\n",
        "            nn.BatchNorm2d(128),\n",
        "            nn.ReLU(inplace=True),\n",
        "            nn.ConvTranspose2d(128, 64, kernel_size=4, stride=2, padding=1),\n",
        "            nn.BatchNorm2d(64),\n",
        "            nn.ReLU(inplace=True),\n",
        "            nn.ConvTranspose2d(64, 3, kernel_size=4, stride=2, padding=1),\n",
        "            nn.Tanh()\n",
        "        )\n",
        "\n",
        "    def forward(self, x):\n",
        "        x = self.encoder(x)\n",
        "        x = self.decoder(x)\n",
        "        return x\n",
        "\n",
        "# Discriminator Model (PatchGAN)\n",
        "class Discriminator(nn.Module):\n",
        "    def __init__(self):\n",
        "        super(Discriminator, self).__init__()\n",
        "        self.model = nn.Sequential(\n",
        "            nn.Conv2d(3, 64, kernel_size=4, stride=2, padding=1),\n",
        "            nn.LeakyReLU(0.2, inplace=True),\n",
        "            nn.Conv2d(64, 128, kernel_size=4, stride=2, padding=1),\n",
        "            nn.BatchNorm2d(128),\n",
        "            nn.LeakyReLU(0.2, inplace=True),\n",
        "            nn.Conv2d(128, 256, kernel_size=4, stride=2, padding=1),\n",
        "            nn.BatchNorm2d(256),\n",
        "            nn.LeakyReLU(0.2, inplace=True),\n",
        "            nn.Conv2d(256, 1, kernel_size=4, stride=1, padding=0),\n",
        "            nn.Sigmoid()\n",
        "        )\n",
        "\n",
        "    def forward(self, x):\n",
        "        return self.model(x)\n",
        "\n",
        "# Initialize models\n",
        "device = torch.device(\"cuda\" if torch.cuda.is_available() else \"cpu\")\n",
        "generator = Generator().to(device)\n",
        "discriminator = Discriminator().to(device)\n",
        "\n",
        "# Loss function and optimizers\n",
        "criterion = nn.BCELoss()\n",
        "optimizer_G = optim.Adam(generator.parameters(), lr=0.0002, betas=(0.5, 0.999))\n",
        "optimizer_D = optim.Adam(discriminator.parameters(), lr=0.0002, betas=(0.5, 0.999))\n",
        "\n",
        "print(\"✅ GAN Model Defined Successfully!\")"
      ],
      "metadata": {
        "id": "3_363nbqf0F_"
      },
      "execution_count": null,
      "outputs": []
    },
    {
      "cell_type": "code",
      "source": [
        "import os\n",
        "from PIL import Image\n",
        "\n",
        "# Define dataset paths\n",
        "real_image_dir = \"/content/CASIA2/Au\"  # Authentic (Real) images\n",
        "tampered_image_dir = \"/content/CASIA2/Tp\"  # Tampered images\n",
        "\n",
        "# Load image file paths\n",
        "real_image_list = [os.path.join(real_image_dir, img) for img in os.listdir(real_image_dir) if img.endswith(('.png', '.jpg', '.jpeg'))]\n",
        "tampered_image_list = [os.path.join(tampered_image_dir, img) for img in os.listdir(tampered_image_dir) if img.endswith(('.png', '.jpg', '.jpeg'))]\n",
        "\n",
        "# Check the number of images\n",
        "print(f\"✅ Found {len(real_image_list)} real images & {len(tampered_image_list)} tampered images\")"
      ],
      "metadata": {
        "id": "jaPShIoGgHGa"
      },
      "execution_count": null,
      "outputs": []
    },
    {
      "cell_type": "code",
      "source": [
        "from torchvision import transforms\n",
        "from torch.utils.data import Dataset\n",
        "\n",
        "# Image Transformations (Normalization for GAN training)\n",
        "transform = transforms.Compose([\n",
        "    transforms.Resize((256, 256)),  # Resize images to 256x256\n",
        "    transforms.ToTensor(),  # Convert images to PyTorch tensors\n",
        "    transforms.Normalize(mean=[0.5], std=[0.5])  # Normalize pixel values to [-1, 1]\n",
        "])\n",
        "\n",
        "# Custom Dataset Class\n",
        "class TamperingDataset(Dataset):\n",
        "    def __init__(self, real_image_paths, tampered_image_paths, transform=None):\n",
        "        self.real_image_paths = real_image_paths\n",
        "        self.tampered_image_paths = tampered_image_paths\n",
        "        self.transform = transform\n",
        "\n",
        "    def __len__(self):\n",
        "        return min(len(self.real_image_paths), len(self.tampered_image_paths))  # Ensure dataset pairs match\n",
        "\n",
        "    def __getitem__(self, idx):\n",
        "        real_image = Image.open(self.real_image_paths[idx]).convert(\"RGB\")\n",
        "        tampered_image = Image.open(self.tampered_image_paths[idx]).convert(\"RGB\")\n",
        "\n",
        "        if self.transform:\n",
        "            real_image = self.transform(real_image)\n",
        "            tampered_image = self.transform(tampered_image)\n",
        "\n",
        "        return real_image, tampered_image\n",
        "\n",
        "# Create dataset\n",
        "augmented_dataset = TamperingDataset(real_image_list, tampered_image_list, transform=transform)\n",
        "print(f\"✅ Dataset successfully created with {len(augmented_dataset)} samples!\")"
      ],
      "metadata": {
        "id": "4QJTBUpdhH8N"
      },
      "execution_count": null,
      "outputs": []
    },
    {
      "cell_type": "code",
      "source": [
        "from torch.utils.data import DataLoader\n",
        "\n",
        "batch_size = 32  # Adjust based on GPU memory\n",
        "dataloader = DataLoader(augmented_dataset, batch_size=batch_size, shuffle=True)\n",
        "\n",
        "print(\"✅ DataLoader is ready!\")"
      ],
      "metadata": {
        "id": "emffdcs7hJ_i"
      },
      "execution_count": null,
      "outputs": []
    },
    {
      "cell_type": "code",
      "source": [
        "import torch\n",
        "import torch.nn as nn\n",
        "import torch.optim as optim\n",
        "from torchvision.utils import save_image\n",
        "from tqdm import tqdm\n",
        "from torch.cuda.amp import autocast, GradScaler\n",
        "from torch.utils.data import DataLoader\n",
        "\n",
        "# Ensure GPU is used if available\n",
        "device = torch.device(\"cuda\" if torch.cuda.is_available() else \"cpu\")\n",
        "\n",
        "# Hyperparameters\n",
        "num_epochs = 10\n",
        "batch_size = 64\n",
        "lr = 0.0002\n",
        "\n",
        "# Loss Functions\n",
        "adversarial_loss = nn.BCEWithLogitsLoss().to(device)\n",
        "reconstruction_loss = nn.L1Loss().to(device)\n",
        "\n",
        "# ✅ Define Generator Model\n",
        "class Generator(nn.Module):\n",
        "    def __init__(self):\n",
        "        super(Generator, self).__init__()\n",
        "        self.model = nn.Sequential(\n",
        "            nn.Conv2d(3, 64, kernel_size=4, stride=2, padding=1),\n",
        "            nn.ReLU(),\n",
        "            nn.Conv2d(64, 128, kernel_size=4, stride=2, padding=1),\n",
        "            nn.BatchNorm2d(128),\n",
        "            nn.ReLU(),\n",
        "            nn.Conv2d(128, 256, kernel_size=4, stride=2, padding=1),\n",
        "            nn.BatchNorm2d(256),\n",
        "            nn.ReLU(),\n",
        "            nn.ConvTranspose2d(256, 128, kernel_size=4, stride=2, padding=1),\n",
        "            nn.BatchNorm2d(128),\n",
        "            nn.ReLU(),\n",
        "            nn.ConvTranspose2d(128, 64, kernel_size=4, stride=2, padding=1),\n",
        "            nn.BatchNorm2d(64),\n",
        "            nn.ReLU(),\n",
        "            nn.ConvTranspose2d(64, 3, kernel_size=4, stride=2, padding=1),\n",
        "            nn.Tanh()\n",
        "        )\n",
        "\n",
        "    def forward(self, x):\n",
        "        return self.model(x)\n",
        "\n",
        "generator = Generator().to(device)\n",
        "\n",
        "# ✅ Define Discriminator Model\n",
        "class Discriminator(nn.Module):\n",
        "    def __init__(self):\n",
        "        super(Discriminator, self).__init__()\n",
        "        self.model = nn.Sequential(\n",
        "            nn.Conv2d(3, 64, kernel_size=4, stride=2, padding=1),\n",
        "            nn.LeakyReLU(0.2, inplace=True),\n",
        "            nn.Conv2d(64, 128, kernel_size=4, stride=2, padding=1),\n",
        "            nn.BatchNorm2d(128),\n",
        "            nn.LeakyReLU(0.2, inplace=True),\n",
        "            nn.Conv2d(128, 256, kernel_size=4, stride=2, padding=1),\n",
        "            nn.BatchNorm2d(256),\n",
        "            nn.LeakyReLU(0.2, inplace=True),\n",
        "            nn.Conv2d(256, 1, kernel_size=4, stride=1, padding=0),\n",
        "        )\n",
        "\n",
        "    def forward(self, x):\n",
        "        return self.model(x).view(-1, 1)\n",
        "\n",
        "discriminator = Discriminator().to(device)\n",
        "\n",
        "# Optimizers\n",
        "g_optimizer = optim.Adam(generator.parameters(), lr=lr, betas=(0.5, 0.999))\n",
        "d_optimizer = optim.Adam(discriminator.parameters(), lr=lr, betas=(0.5, 0.999))\n",
        "\n",
        "# Enable mixed precision training (only if CUDA is available)\n",
        "scaler = GradScaler(enabled=torch.cuda.is_available())\n",
        "\n",
        "# Define DataLoader\n",
        "dataloader = DataLoader(augmented_dataset, batch_size=batch_size, shuffle=True, pin_memory=True)\n",
        "\n",
        "# Training Loop\n",
        "for epoch in range(num_epochs):\n",
        "    loop = tqdm(dataloader, leave=True)\n",
        "    for i, (real_images, tampered_images) in enumerate(loop):\n",
        "        real_images, tampered_images = real_images.to(device), tampered_images.to(device)\n",
        "        batch_size = real_images.size(0)\n",
        "\n",
        "        # Labels\n",
        "        real_labels = torch.ones(batch_size, 1, device=device)\n",
        "        fake_labels = torch.zeros(batch_size, 1, device=device)\n",
        "\n",
        "        # Train Discriminator\n",
        "        d_optimizer.zero_grad()\n",
        "        with autocast(enabled=torch.cuda.is_available()):\n",
        "            real_outputs = discriminator(real_images)\n",
        "            fake_images = generator(tampered_images).detach()\n",
        "            fake_outputs = discriminator(fake_images)\n",
        "\n",
        "            d_loss_real = adversarial_loss(real_outputs, real_labels)\n",
        "            d_loss_fake = adversarial_loss(fake_outputs, fake_labels)\n",
        "            d_loss = (d_loss_real + d_loss_fake) / 2\n",
        "\n",
        "        scaler.scale(d_loss).backward()\n",
        "        scaler.step(d_optimizer)\n",
        "        scaler.update()\n",
        "\n",
        "        # Train Generator\n",
        "        g_optimizer.zero_grad()\n",
        "        with autocast(enabled=torch.cuda.is_available()):\n",
        "            fake_images = generator(tampered_images)\n",
        "            fake_outputs = discriminator(fake_images)\n",
        "\n",
        "            g_adv_loss = adversarial_loss(fake_outputs, real_labels)\n",
        "            g_rec_loss = reconstruction_loss(fake_images, real_images)\n",
        "            g_loss = g_adv_loss + 10 * g_rec_loss\n",
        "\n",
        "        scaler.scale(g_loss).backward()\n",
        "        scaler.step(g_optimizer)\n",
        "        scaler.update()\n",
        "\n",
        "        # Update progress bar\n",
        "        loop.set_description(f\"Epoch [{epoch+1}/{num_epochs}]\")\n",
        "        loop.set_postfix(D_loss=d_loss.item(), G_loss=g_loss.item())\n",
        "\n",
        "    # Save sample images & models every 5 epochs\n",
        "    if (epoch + 1) % 5 == 0:\n",
        "        save_image(fake_images[:8], f\"generated_epoch_{epoch+1}.png\", nrow=4, normalize=True)\n",
        "        torch.save(generator.state_dict(), f'generator_epoch_{epoch+1}.pth')\n",
        "        torch.save(discriminator.state_dict(), f'discriminator_epoch_{epoch+1}.pth')\n",
        "        print(f\"✅ Model saved at epoch {epoch+1}\")\n",
        "\n",
        "print(\"✅ GAN Training Completed!\")"
      ],
      "metadata": {
        "id": "_mSNvD98hSNW"
      },
      "execution_count": null,
      "outputs": []
    },
    {
      "cell_type": "code",
      "source": [
        "from google.colab import drive\n",
        "drive.mount('/content/drive')"
      ],
      "metadata": {
        "id": "lPi6ssFipCoV"
      },
      "execution_count": null,
      "outputs": []
    },
    {
      "cell_type": "code",
      "source": [
        "import os\n",
        "from torchvision import datasets, transforms\n",
        "from torch.utils.data import DataLoader\n",
        "\n",
        "# Define transformation (resize + normalize)\n",
        "transform = transforms.Compose([\n",
        "    transforms.Resize((128, 128)),  # Resize all images to 128x128\n",
        "    transforms.ToTensor(),\n",
        "    transforms.Normalize(mean=[0.5], std=[0.5])\n",
        "])\n",
        "\n",
        "# Path to CASIA2 dataset folder (modify this path)\n",
        "dataset_path = \"/content/CASIA2\"  # Change this if needed\n",
        "\n",
        "# Load dataset\n",
        "dataset = datasets.ImageFolder(root=dataset_path, transform=transform)\n",
        "\n",
        "# Create DataLoader\n",
        "dataloader = DataLoader(dataset, batch_size=batch_size, shuffle=True, pin_memory=True)\n",
        "\n",
        "print(\"✅ CASIA2 dataset loaded successfully!\")"
      ],
      "metadata": {
        "id": "Qy1T8FdgpLwG"
      },
      "execution_count": null,
      "outputs": []
    },
    {
      "cell_type": "code",
      "source": [
        "from google.colab import drive\n",
        "drive.mount('/content/drive')"
      ],
      "metadata": {
        "id": "5BG0biRAphpr"
      },
      "execution_count": null,
      "outputs": []
    },
    {
      "cell_type": "code",
      "source": [
        "import os\n",
        "import zipfile\n",
        "\n",
        "# Define paths\n",
        "zip_path = \"/content/drive/MyDrive/Colab Notebooks/CASIA2.zip\"  # Change this if needed\n",
        "extract_path = \"/content/CASIA2\"\n",
        "\n",
        "# Extract if not already extracted\n",
        "if not os.path.exists(extract_path):\n",
        "    with zipfile.ZipFile(zip_path, 'r') as zip_ref:\n",
        "        zip_ref.extractall(extract_path)\n",
        "    print(\"✅ CASIA2 dataset extracted!\")\n",
        "else:\n",
        "    print(\"✅ CASIA2 dataset already extracted!\")"
      ],
      "metadata": {
        "id": "LNq4UPgypk_4"
      },
      "execution_count": null,
      "outputs": []
    },
    {
      "cell_type": "code",
      "source": [
        "from torchvision import datasets, transforms\n",
        "from torch.utils.data import DataLoader\n",
        "\n",
        "# Define transformation (resize + normalize)\n",
        "transform = transforms.Compose([\n",
        "    transforms.Resize((128, 128)),  # Resize all images to 128x128\n",
        "    transforms.ToTensor(),\n",
        "    transforms.Normalize(mean=[0.5], std=[0.5])\n",
        "])\n",
        "\n",
        "# Load dataset from the extracted folder\n",
        "dataset_path = \"/content/CASIA2\"\n",
        "dataset = datasets.ImageFolder(root=dataset_path, transform=transform)\n",
        "\n",
        "# Create DataLoader\n",
        "batch_size = 64  # Change if needed\n",
        "dataloader = DataLoader(dataset, batch_size=batch_size, shuffle=True, pin_memory=True)\n",
        "\n",
        "print(\"✅ CASIA2 dataset loaded successfully!\")"
      ],
      "metadata": {
        "id": "EoOlNtjZp51b"
      },
      "execution_count": null,
      "outputs": []
    },
    {
      "cell_type": "code",
      "source": [
        "import torch\n",
        "import torch.nn as nn\n",
        "import torch.optim as optim\n",
        "from torchvision import datasets, transforms\n",
        "from torchvision.utils import save_image\n",
        "from torch.utils.data import DataLoader\n",
        "from tqdm import tqdm\n",
        "from torch.cuda.amp import autocast, GradScaler\n",
        "import os\n",
        "\n",
        "# Hyperparameters\n",
        "num_epochs = 10  # Adjust as needed\n",
        "batch_size = 64  # Optimize for speed\n",
        "lr = 0.0002\n",
        "image_size = 128  # Adjust as per model requirements\n",
        "device = torch.device(\"cuda\" if torch.cuda.is_available() else \"cpu\")\n",
        "\n",
        "# Define dataset path\n",
        "dataset_path = \"/content/CASIA2\"  # Ensure this exists\n",
        "\n",
        "# Transformations\n",
        "transform = transforms.Compose([\n",
        "    transforms.Resize((image_size, image_size)),\n",
        "    transforms.ToTensor(),\n",
        "    transforms.Normalize((0.5,), (0.5,))\n",
        "])\n",
        "\n",
        "# Load dataset\n",
        "dataset = datasets.ImageFolder(root=dataset_path, transform=transform)\n",
        "dataloader = DataLoader(dataset, batch_size=batch_size, shuffle=True, pin_memory=True)\n",
        "\n",
        "# Define Models (Ensure these are defined before use)\n",
        "generator = Generator().to(device)\n",
        "discriminator = Discriminator().to(device)\n",
        "\n",
        "# Loss Functions\n",
        "adversarial_loss = nn.BCEWithLogitsLoss().to(device)\n",
        "reconstruction_loss = nn.L1Loss().to(device)\n",
        "\n",
        "# Optimizers\n",
        "g_optimizer = optim.Adam(generator.parameters(), lr=lr, betas=(0.5, 0.999))\n",
        "d_optimizer = optim.Adam(discriminator.parameters(), lr=lr, betas=(0.5, 0.999))\n",
        "\n",
        "# Mixed Precision\n",
        "scaler = GradScaler(enabled=torch.cuda.is_available())\n",
        "\n",
        "# Training Loop\n",
        "for epoch in range(num_epochs):\n",
        "    loop = tqdm(dataloader, leave=True)\n",
        "    for i, (real_images, _) in enumerate(loop):  # CASIA2 dataset only has images\n",
        "        real_images = real_images.to(device)\n",
        "        batch_size = real_images.size(0)\n",
        "\n",
        "        # Labels\n",
        "        real_labels = torch.ones((batch_size, 1), device=device)\n",
        "        fake_labels = torch.zeros((batch_size, 1), device=device)\n",
        "\n",
        "        # Train Discriminator\n",
        "        d_optimizer.zero_grad()\n",
        "        with autocast():\n",
        "            fake_images = generator(real_images).detach()\n",
        "            real_outputs = discriminator(real_images).view(batch_size, 1)\n",
        "            fake_outputs = discriminator(fake_images).view(batch_size, 1)\n",
        "\n",
        "            d_loss_real = adversarial_loss(real_outputs, real_labels)\n",
        "            d_loss_fake = adversarial_loss(fake_outputs, fake_labels)\n",
        "            d_loss = (d_loss_real + d_loss_fake) / 2\n",
        "\n",
        "        scaler.scale(d_loss).backward()\n",
        "        scaler.step(d_optimizer)\n",
        "        scaler.update()\n",
        "\n",
        "        # Train Generator\n",
        "        g_optimizer.zero_grad()\n",
        "        with autocast():\n",
        "            fake_images = generator(real_images)\n",
        "            fake_outputs = discriminator(fake_images).view(batch_size, 1)\n",
        "\n",
        "            g_adv_loss = adversarial_loss(fake_outputs, real_labels)\n",
        "            g_rec_loss = reconstruction_loss(fake_images, real_images)\n",
        "            g_loss = g_adv_loss + 10 * g_rec_loss\n",
        "\n",
        "        scaler.scale(g_loss).backward()\n",
        "        scaler.step(g_optimizer)\n",
        "        scaler.update()\n",
        "\n",
        "        # Update progress bar\n",
        "        loop.set_description(f\"Epoch [{epoch+1}/{num_epochs}]\")\n",
        "        loop.set_postfix(D_loss=d_loss.item(), G_loss=g_loss.item())\n",
        "\n",
        "    # Save model and images\n",
        "    if (epoch + 1) % 5 == 0:\n",
        "        save_image(fake_images[:8], f\"generated_epoch_{epoch+1}.png\", nrow=4, normalize=True)\n",
        "        torch.save(generator.state_dict(), f'generator_epoch_{epoch+1}.pth')\n",
        "        torch.save(discriminator.state_dict(), f'discriminator_epoch_{epoch+1}.pth')\n",
        "        print(f\"✅ Model saved at epoch {epoch+1}\")\n",
        "\n",
        "print(\"✅ GAN Training Completed!\")"
      ],
      "metadata": {
        "id": "cNSsA-XhqWCU"
      },
      "execution_count": null,
      "outputs": []
    },
    {
      "cell_type": "code",
      "source": [
        "for i, (real_images, tampered_images) in enumerate(loop):\n",
        "    real_images = real_images.to(device).float()  # Convert to float\n",
        "    tampered_images = tampered_images.to(device).float()  # Convert to float\n",
        "\n",
        "    d_optimizer.zero_grad()\n",
        "    real_outputs = discriminator(real_images)\n",
        "    fake_images = generator(tampered_images).detach()\n",
        "    fake_outputs = discriminator(fake_images)\n",
        "\n",
        "    d_loss_real = adversarial_loss(real_outputs, real_labels)\n",
        "    d_loss_fake = adversarial_loss(fake_outputs, fake_labels)\n",
        "    d_loss = (d_loss_real + d_loss_fake) / 2\n",
        "\n",
        "    d_loss.backward()\n",
        "    d_optimizer.step()"
      ],
      "metadata": {
        "id": "E00LNqC5rmjv"
      },
      "execution_count": null,
      "outputs": []
    },
    {
      "cell_type": "code",
      "source": [
        "print(f\"Tampered images shape: {tampered_images.shape}\")  # Debugging"
      ],
      "metadata": {
        "id": "G-xdvghXsX-p"
      },
      "execution_count": null,
      "outputs": []
    },
    {
      "cell_type": "code",
      "source": [
        "import torchvision.transforms as transforms\n",
        "\n",
        "transform = transforms.Compose([\n",
        "    transforms.Resize((256, 256)),  # Resize all images to 256x256\n",
        "    transforms.ToTensor(),  # Convert to tensor\n",
        "])\n",
        "\n",
        "dataset = datasets.ImageFolder(root=dataset_path, transform=transform)"
      ],
      "metadata": {
        "id": "1TchsR5ssbXM"
      },
      "execution_count": null,
      "outputs": []
    },
    {
      "cell_type": "code",
      "source": [
        "print(type(tampered_images))  # Should be a tensor\n",
        "print(tampered_images.shape)  # Should be [batch_size, 3, 256, 256]\n",
        "print(tampered_images[:5])  # Inspect first few values"
      ],
      "metadata": {
        "id": "Wvd4JzNzsuYO"
      },
      "execution_count": null,
      "outputs": []
    },
    {
      "cell_type": "code",
      "source": [
        "for batch in dataloader:\n",
        "    real_images, _ = batch  # Ignore labels (ImageFolder returns (image, label))\n",
        "    tampered_images = real_images  # Use real images for now (modify later)\n",
        "    break"
      ],
      "metadata": {
        "id": "oI8hkbPps2xs"
      },
      "execution_count": null,
      "outputs": []
    },
    {
      "cell_type": "code",
      "source": [
        "tampered_images = tampered_images.float()  # Convert to float\n",
        "tampered_images = tampered_images.view(-1, 3, 256, 256)  # Reshape"
      ],
      "metadata": {
        "id": "XzlVzKO0s42E"
      },
      "execution_count": null,
      "outputs": []
    },
    {
      "cell_type": "code",
      "source": [
        "for batch in dataloader:\n",
        "    real_images, _ = batch  # ✅ Extract images, ignore labels\n",
        "    tampered_images = real_images.clone().detach()  # ✅ Ensure correct data\n",
        "    break  # ✅ Stop after one batch"
      ],
      "metadata": {
        "id": "02XtWKiMtX3d"
      },
      "execution_count": null,
      "outputs": []
    },
    {
      "cell_type": "code",
      "source": [
        "print(type(tampered_images))  # Should be <class 'torch.Tensor'>\n",
        "print(tampered_images.shape)  # Should be [batch_size, 3, 256, 256]"
      ],
      "metadata": {
        "id": "RMBsJMrKtaHZ"
      },
      "execution_count": null,
      "outputs": []
    },
    {
      "cell_type": "code",
      "source": [
        "fake_images = generator(tampered_images).detach()\n",
        "fake_outputs = discriminator(fake_images)"
      ],
      "metadata": {
        "id": "DXCS_VVhtcIE"
      },
      "execution_count": null,
      "outputs": []
    },
    {
      "cell_type": "code",
      "source": [
        "tampered_images = tampered_images.to('cuda')  # ✅ Move images to GPU"
      ],
      "metadata": {
        "id": "u1z8APHttzoT"
      },
      "execution_count": null,
      "outputs": []
    },
    {
      "cell_type": "code",
      "source": [
        "tampered_images = tampered_images.to('cuda')  # ✅ Ensure same device\n",
        "fake_images = generator(tampered_images).detach()\n",
        "fake_outputs = discriminator(fake_images)"
      ],
      "metadata": {
        "id": "Nt-2NCgVt1ry"
      },
      "execution_count": null,
      "outputs": []
    },
    {
      "cell_type": "code",
      "source": [
        "fake_images = generator(tampered_images).detach()\n",
        "fake_outputs = discriminator(fake_images)"
      ],
      "metadata": {
        "id": "Qtdrmi1kt7JZ"
      },
      "execution_count": null,
      "outputs": []
    },
    {
      "cell_type": "code",
      "source": [
        "# Loss functions\n",
        "criterion = torch.nn.BCELoss()\n",
        "\n",
        "# Real labels are 1, fake labels are 0\n",
        "real_labels = torch.ones(batch_size, 1, device='cuda')\n",
        "fake_labels = torch.zeros(batch_size, 1, device='cuda')\n",
        "\n",
        "# Discriminator Loss\n",
        "d_loss_real = criterion(real_outputs, real_labels)\n",
        "d_loss_fake = criterion(fake_outputs, fake_labels)\n",
        "d_loss = d_loss_real + d_loss_fake\n",
        "\n",
        "# Generator Loss\n",
        "g_loss = criterion(fake_outputs, real_labels)  # Wants fake to look real\n",
        "\n",
        "# Backpropagate and optimize\n",
        "d_optimizer.zero_grad()\n",
        "d_loss.backward()\n",
        "d_optimizer.step()\n",
        "\n",
        "g_optimizer.zero_grad()\n",
        "g_loss.backward()\n",
        "g_optimizer.step()\n",
        "\n",
        "print(f\"Step 4 ✅ | D Loss: {d_loss.item()} | G Loss: {g_loss.item()}\")"
      ],
      "metadata": {
        "id": "T0CSOtl0uIi5"
      },
      "execution_count": null,
      "outputs": []
    },
    {
      "cell_type": "code",
      "source": [
        "# Ensure the discriminator output is reshaped correctly\n",
        "real_outputs = real_outputs.view(-1, 1)\n",
        "fake_outputs = fake_outputs.view(-1, 1)\n",
        "\n",
        "# Compute losses\n",
        "d_loss_real = criterion(real_outputs, real_labels)\n",
        "d_loss_fake = criterion(fake_outputs, fake_labels)"
      ],
      "metadata": {
        "id": "n7eoImQ1uRpH"
      },
      "execution_count": null,
      "outputs": []
    },
    {
      "cell_type": "code",
      "source": [
        "# Fix shape before loss computation\n",
        "real_outputs = real_outputs.view(real_labels.shape)\n",
        "fake_outputs = fake_outputs.view(fake_labels.shape)\n",
        "\n",
        "# Compute losses\n",
        "d_loss_real = criterion(real_outputs, real_labels)\n",
        "d_loss_fake = criterion(fake_outputs, fake_labels)"
      ],
      "metadata": {
        "id": "9eAKEFWyulNx"
      },
      "execution_count": null,
      "outputs": []
    },
    {
      "cell_type": "code",
      "source": [
        "class Discriminator(nn.Module):\n",
        "    def __init__(self):\n",
        "        super(Discriminator, self).__init__()\n",
        "        self.model = nn.Sequential(\n",
        "            nn.Conv2d(3, 64, kernel_size=4, stride=2, padding=1),\n",
        "            nn.LeakyReLU(0.2, inplace=True),\n",
        "            nn.Conv2d(64, 128, kernel_size=4, stride=2, padding=1),\n",
        "            nn.LeakyReLU(0.2, inplace=True),\n",
        "            nn.Conv2d(128, 256, kernel_size=4, stride=2, padding=1),\n",
        "            nn.LeakyReLU(0.2, inplace=True),\n",
        "            nn.Conv2d(256, 1, kernel_size=4, stride=1, padding=0),  # 1 output per image\n",
        "            nn.Flatten(),  # Ensures correct shape\n",
        "            nn.Sigmoid()\n",
        "        )\n",
        "\n",
        "    def forward(self, x):\n",
        "        return self.model(x)"
      ],
      "metadata": {
        "id": "u322c7zyunea"
      },
      "execution_count": null,
      "outputs": []
    },
    {
      "cell_type": "code",
      "source": [
        "real_outputs = real_outputs.view(-1, 1)  # Ensure proper shape\n",
        "fake_outputs = fake_outputs.view(-1, 1)"
      ],
      "metadata": {
        "id": "RY18M344u3yd"
      },
      "execution_count": null,
      "outputs": []
    },
    {
      "cell_type": "code",
      "source": [
        "# Fix shape before loss computation\n",
        "real_outputs = real_outputs.view(-1, 1)  # Ensure correct batch shape\n",
        "fake_outputs = fake_outputs.view(-1, 1)\n",
        "\n",
        "# Compute losses\n",
        "d_loss_real = criterion(real_outputs, real_labels)\n",
        "d_loss_fake = criterion(fake_outputs, fake_labels)\n",
        "d_loss = d_loss_real + d_loss_fake"
      ],
      "metadata": {
        "id": "cT5m2TAou6EH"
      },
      "execution_count": null,
      "outputs": []
    },
    {
      "cell_type": "code",
      "source": [
        "# Ensure correct shape\n",
        "real_outputs = real_outputs.view(real_labels.shape)  # Match labels\n",
        "fake_outputs = fake_outputs.view(fake_labels.shape)"
      ],
      "metadata": {
        "id": "MkZzOFX9vGj4"
      },
      "execution_count": null,
      "outputs": []
    },
    {
      "cell_type": "code",
      "source": [
        "print(\"Real Outputs Shape:\", real_outputs.shape)\n",
        "print(\"Fake Outputs Shape:\", fake_outputs.shape)"
      ],
      "metadata": {
        "id": "U43dkmFcvUyv"
      },
      "execution_count": null,
      "outputs": []
    },
    {
      "cell_type": "code",
      "source": [
        "# Flatten only the necessary dimension\n",
        "real_outputs = real_outputs.view(real_outputs.size(0), -1)\n",
        "fake_outputs = fake_outputs.view(fake_outputs.size(0), -1)\n",
        "\n",
        "print(\"Fixed Real Outputs Shape:\", real_outputs.shape)\n",
        "print(\"Fixed Fake Outputs Shape:\", fake_outputs.shape)"
      ],
      "metadata": {
        "id": "D819TVnzvbsq"
      },
      "execution_count": null,
      "outputs": []
    },
    {
      "cell_type": "code",
      "source": [
        "# Ensure correct shape before computing loss\n",
        "real_outputs = real_outputs.view(-1, 1)\n",
        "fake_outputs = fake_outputs.view(-1, 1)\n",
        "\n",
        "print(\"Fixed Real Outputs Shape:\", real_outputs.shape)\n",
        "print(\"Fixed Fake Outputs Shape:\", fake_outputs.shape)"
      ],
      "metadata": {
        "id": "rd151AOdwAed"
      },
      "execution_count": null,
      "outputs": []
    },
    {
      "cell_type": "code",
      "source": [
        "import torch.nn as nn\n",
        "\n",
        "class Discriminator(nn.Module):\n",
        "    def __init__(self):\n",
        "        super(Discriminator, self).__init__()\n",
        "        self.model = nn.Sequential(\n",
        "            nn.Conv2d(3, 64, kernel_size=4, stride=2, padding=1),\n",
        "            nn.LeakyReLU(0.2, inplace=True),\n",
        "            nn.Conv2d(64, 128, kernel_size=4, stride=2, padding=1),\n",
        "            nn.LeakyReLU(0.2, inplace=True),\n",
        "            nn.Conv2d(128, 256, kernel_size=4, stride=2, padding=1),\n",
        "            nn.LeakyReLU(0.2, inplace=True),\n",
        "            nn.Conv2d(256, 512, kernel_size=4, stride=2, padding=1),\n",
        "            nn.LeakyReLU(0.2, inplace=True),\n",
        "\n",
        "            # **Fix: Global Average Pooling**\n",
        "            nn.AdaptiveAvgPool2d(1),  # Ensures output shape is [batch_size, 512, 1, 1]\n",
        "            nn.Flatten(),  # Flattens to [batch_size, 512]\n",
        "            nn.Linear(512, 1),  # Final output shape [batch_size, 1]\n",
        "            nn.Sigmoid()\n",
        "        )\n",
        "\n",
        "    def forward(self, x):\n",
        "        return self.model(x)"
      ],
      "metadata": {
        "id": "xz_YMkF9wDjb"
      },
      "execution_count": null,
      "outputs": []
    },
    {
      "cell_type": "code",
      "source": [
        "print(\"New Real Outputs Shape:\", real_outputs.shape)\n",
        "print(\"New Fake Outputs Shape:\", fake_outputs.shape)"
      ],
      "metadata": {
        "id": "dRdcicPbwFkD"
      },
      "execution_count": null,
      "outputs": []
    },
    {
      "cell_type": "code",
      "source": [
        "# Ensure correct shape for loss computation\n",
        "real_outputs = real_outputs.view(real_labels.shape[0], -1)\n",
        "fake_outputs = fake_outputs.view(fake_labels.shape[0], -1)\n",
        "\n",
        "print(\"Fixed Real Outputs Shape:\", real_outputs.shape)\n",
        "print(\"Fixed Fake Outputs Shape:\", fake_outputs.shape)"
      ],
      "metadata": {
        "id": "hjNFzsb1wZVb"
      },
      "execution_count": null,
      "outputs": []
    },
    {
      "cell_type": "code",
      "source": [
        "# Ensure correct shape for loss computation\n",
        "real_outputs = real_outputs.mean(dim=1, keepdim=True)  # Reduce to [batch_size, 1]\n",
        "fake_outputs = fake_outputs.mean(dim=1, keepdim=True)  # Reduce to [batch_size, 1]\n",
        "\n",
        "print(\"Final Fixed Real Outputs Shape:\", real_outputs.shape)\n",
        "print(\"Final Fixed Fake Outputs Shape:\", fake_outputs.shape)"
      ],
      "metadata": {
        "id": "6-3DNvmJwvLJ"
      },
      "execution_count": null,
      "outputs": []
    },
    {
      "cell_type": "code",
      "source": [
        "# Compute losses\n",
        "d_loss_real = criterion(real_outputs, real_labels)\n",
        "d_loss_fake = criterion(fake_outputs, fake_labels)\n",
        "d_loss = d_loss_real + d_loss_fake\n",
        "\n",
        "# Backpropagation for the discriminator\n",
        "d_optimizer.zero_grad()\n",
        "d_loss.backward()\n",
        "d_optimizer.step()\n",
        "\n",
        "# Generate fake images for generator training\n",
        "fake_images = generator(real_images)\n",
        "fake_outputs = discriminator(fake_images)\n",
        "\n",
        "# Compute generator loss\n",
        "g_loss = criterion(fake_outputs, real_labels)  # Fool the discriminator\n",
        "\n",
        "# Backpropagation for the generator\n",
        "g_optimizer.zero_grad()\n",
        "g_loss.backward()\n",
        "g_optimizer.step()\n",
        "\n",
        "print(f\"D Loss: {d_loss.item():.4f}, G Loss: {g_loss.item():.4f}\")"
      ],
      "metadata": {
        "id": "kOk7Ce8RxC5C"
      },
      "execution_count": null,
      "outputs": []
    },
    {
      "cell_type": "code",
      "source": [
        "print(\"Real Outputs Shape:\", real_outputs.shape)\n",
        "print(\"Fake Outputs Shape:\", fake_outputs.shape)\n",
        "print(\"Real Labels Shape:\", real_labels.shape)\n",
        "print(\"Fake Labels Shape:\", fake_labels.shape)\n",
        "\n",
        "print(\"Real Outputs Min/Max:\", real_outputs.min().item(), real_outputs.max().item())\n",
        "print(\"Fake Outputs Min/Max:\", fake_outputs.min().item(), fake_outputs.max().item())\n",
        "\n",
        "print(\"Real Labels Unique Values:\", real_labels.unique())\n",
        "print(\"Fake Labels Unique Values:\", fake_labels.unique())\n",
        "\n",
        "# Ensure all tensors are on the same device\n",
        "real_outputs = real_outputs.to(real_labels.device)\n",
        "fake_outputs = fake_outputs.to(fake_labels.device)\n",
        "\n",
        "# Compute losses\n",
        "d_loss_real = criterion(real_outputs, real_labels)\n",
        "d_loss_fake = criterion(fake_outputs, fake_labels)\n",
        "d_loss = d_loss_real + d_loss_fake\n",
        "\n",
        "print(f\"D Loss: {d_loss.item():.4f}\")"
      ],
      "metadata": {
        "id": "LuIT5vmexPMW"
      },
      "execution_count": null,
      "outputs": []
    },
    {
      "cell_type": "code",
      "source": [
        "!export CUDA_LAUNCH_BLOCKING=1"
      ],
      "metadata": {
        "id": "8_5unpmOxgPO"
      },
      "execution_count": null,
      "outputs": []
    },
    {
      "cell_type": "code",
      "source": [
        "import os\n",
        "os.environ['CUDA_LAUNCH_BLOCKING'] = '1'"
      ],
      "metadata": {
        "id": "3Dvf_8pTpPiw"
      },
      "execution_count": null,
      "outputs": []
    },
    {
      "cell_type": "code",
      "source": [
        "import torch  # Make sure PyTorch is imported\n",
        "\n",
        "# Ensure real_labels and fake_labels are properly initialized\n",
        "real_labels = torch.ones((64, 1), device='cuda')  # Assuming batch size is 64\n",
        "fake_labels = torch.zeros((64, 1), device='cuda')\n",
        "\n",
        "print(\"Real Labels Min/Max:\", real_labels.min().item(), real_labels.max().item())\n",
        "print(\"Fake Labels Min/Max:\", fake_labels.min().item(), fake_labels.max().item())"
      ],
      "metadata": {
        "colab": {
          "base_uri": "https://localhost:8080/"
        },
        "id": "XpG2iq4Rpkgk",
        "outputId": "459211d4-31a3-48b5-8a20-47a071fff4f6"
      },
      "execution_count": null,
      "outputs": [
        {
          "output_type": "stream",
          "name": "stdout",
          "text": [
            "Real Labels Min/Max: 1.0 1.0\n",
            "Fake Labels Min/Max: 0.0 0.0\n"
          ]
        }
      ]
    },
    {
      "cell_type": "code",
      "source": [
        "# Ensure necessary imports\n",
        "import torch\n",
        "import torch.nn as nn\n",
        "\n",
        "# Define the Discriminator (example)\n",
        "class Discriminator(nn.Module):\n",
        "    def __init__(self):\n",
        "        super(Discriminator, self).__init__()\n",
        "        self.model = nn.Sequential(\n",
        "            nn.Flatten(),\n",
        "            nn.Linear(3 * 128 * 128, 512),\n",
        "            nn.ReLU(),\n",
        "            nn.Linear(512, 1),\n",
        "            nn.Sigmoid()\n",
        "        )\n",
        "\n",
        "    def forward(self, x):\n",
        "        return self.model(x)\n",
        "\n",
        "# Define the Generator (example)\n",
        "class Generator(nn.Module):\n",
        "    def __init__(self):\n",
        "        super(Generator, self).__init__()\n",
        "        self.model = nn.Sequential(\n",
        "            nn.Linear(3 * 128 * 128, 512),\n",
        "            nn.ReLU(),\n",
        "            nn.Linear(512, 3 * 128 * 128),\n",
        "            nn.Tanh()\n",
        "        )\n",
        "\n",
        "    def forward(self, x):\n",
        "        return self.model(x).view(-1, 3, 128, 128)  # Reshape back to image\n",
        "\n",
        "# Instantiate models and move to CUDA if available\n",
        "device = torch.device(\"cuda\" if torch.cuda.is_available() else \"cpu\")\n",
        "discriminator = Discriminator().to(device)\n",
        "generator = Generator().to(device)\n",
        "\n",
        "# Define loss function\n",
        "criterion = nn.BCELoss()\n",
        "\n",
        "print(\"Models initialized successfully!\")"
      ],
      "metadata": {
        "colab": {
          "base_uri": "https://localhost:8080/"
        },
        "id": "OxYZmdx93rf0",
        "outputId": "4155e1be-02a0-46a0-c82d-cee5eab67cad"
      },
      "execution_count": null,
      "outputs": [
        {
          "output_type": "stream",
          "name": "stdout",
          "text": [
            "Models initialized successfully!\n"
          ]
        }
      ]
    },
    {
      "cell_type": "code",
      "source": [
        "# Ensure dataset is loaded\n",
        "import torchvision.transforms as transforms\n",
        "from torchvision import datasets\n",
        "from torch.utils.data import DataLoader\n",
        "\n",
        "# Define image transformations\n",
        "transform = transforms.Compose([\n",
        "    transforms.Resize((128, 128)),  # Resize images to match model input\n",
        "    transforms.ToTensor(),          # Convert to tensor\n",
        "])\n",
        "\n",
        "# Load dataset (Example: CIFAR-10, replace with your dataset)\n",
        "dataset = datasets.FakeData(transform=transform)  # Replace with your dataset\n",
        "dataloader = DataLoader(dataset, batch_size=64, shuffle=True)\n",
        "\n",
        "# Get a batch of real images\n",
        "real_images, _ = next(iter(dataloader))  # Assuming dataset returns (image, label)\n",
        "real_images = real_images.to(device)\n",
        "\n",
        "# Generate tampered images (Example: Adding noise)\n",
        "tampered_images = real_images + 0.1 * torch.randn_like(real_images)  # Add slight noise\n",
        "tampered_images = torch.clamp(tampered_images, 0, 1)  # Keep values in valid range\n",
        "\n",
        "print(\"Real and Tampered Images Loaded Successfully!\")"
      ],
      "metadata": {
        "colab": {
          "base_uri": "https://localhost:8080/"
        },
        "id": "5pump6gc4kvb",
        "outputId": "201e2a3f-a9e9-4eb6-b78a-454ad21e50d2"
      },
      "execution_count": null,
      "outputs": [
        {
          "output_type": "stream",
          "name": "stdout",
          "text": [
            "Real and Tampered Images Loaded Successfully!\n"
          ]
        }
      ]
    },
    {
      "cell_type": "code",
      "source": [
        "tampered_images = tampered_images.view(tampered_images.size(0), -1)  # Flatten input\n",
        "fake_images = generator(tampered_images)  # Now pass it"
      ],
      "metadata": {
        "id": "USVFlgV55jQb"
      },
      "execution_count": null,
      "outputs": []
    },
    {
      "cell_type": "code",
      "source": [
        "# Ensure correct input shape for Generator\n",
        "tampered_images = tampered_images.view(tampered_images.size(0), -1)  # Flatten\n",
        "\n",
        "# Forward pass through generator\n",
        "fake_images = generator(tampered_images)\n",
        "\n",
        "# Forward pass through discriminator\n",
        "real_outputs = discriminator(real_images)\n",
        "fake_outputs = discriminator(fake_images.detach())\n",
        "\n",
        "# Ensure discriminator outputs have the correct shape\n",
        "real_outputs = real_outputs.view(real_labels.shape)\n",
        "fake_outputs = fake_outputs.view(fake_labels.shape)\n",
        "\n",
        "# Compute losses\n",
        "d_loss_real = criterion(real_outputs, real_labels)\n",
        "d_loss_fake = criterion(fake_outputs, fake_labels)\n",
        "d_loss = d_loss_real + d_loss_fake\n",
        "\n",
        "print(\"Discriminator Loss:\", d_loss.item())"
      ],
      "metadata": {
        "colab": {
          "base_uri": "https://localhost:8080/"
        },
        "id": "aUaoGlFc68h5",
        "outputId": "4287bff2-b176-41c3-c7e7-69f0537203e7"
      },
      "execution_count": null,
      "outputs": [
        {
          "output_type": "stream",
          "name": "stdout",
          "text": [
            "Discriminator Loss: 1.40694260597229\n"
          ]
        }
      ]
    },
    {
      "cell_type": "code",
      "source": [
        "print(\"Tampered Images Shape:\", tampered_images.shape)"
      ],
      "metadata": {
        "colab": {
          "base_uri": "https://localhost:8080/"
        },
        "id": "ZtW3U19_80gQ",
        "outputId": "10f78d8b-7def-4477-cffe-a7d542e25cee"
      },
      "execution_count": null,
      "outputs": [
        {
          "output_type": "stream",
          "name": "stdout",
          "text": [
            "Tampered Images Shape: torch.Size([64, 3, 128, 128])\n"
          ]
        }
      ]
    },
    {
      "cell_type": "code",
      "source": [
        "print(\"Tampered Images Shape:\", tampered_images.shape)\n",
        "print(\"Generator Expected Input:\", generator)"
      ],
      "metadata": {
        "colab": {
          "base_uri": "https://localhost:8080/"
        },
        "id": "KmzmRq6U83ZF",
        "outputId": "898d5a78-c3d5-4aff-d692-0f457ac5132b"
      },
      "execution_count": null,
      "outputs": [
        {
          "output_type": "stream",
          "name": "stdout",
          "text": [
            "Tampered Images Shape: torch.Size([64, 3, 128, 128])\n",
            "Generator Expected Input: Generator(\n",
            "  (model): Sequential(\n",
            "    (0): Linear(in_features=49152, out_features=512, bias=True)\n",
            "    (1): ReLU()\n",
            "    (2): Linear(in_features=512, out_features=49152, bias=True)\n",
            "    (3): Tanh()\n",
            "  )\n",
            ")\n"
          ]
        }
      ]
    },
    {
      "cell_type": "code",
      "source": [
        "tampered_images = tampered_images.view(tampered_images.shape[0], -1)  # Flatten"
      ],
      "metadata": {
        "id": "OquknKhL9XiC"
      },
      "execution_count": null,
      "outputs": []
    },
    {
      "cell_type": "code",
      "source": [
        "# Generate fake images using the generator\n",
        "fake_images = generator(tampered_images)\n",
        "\n",
        "# Ensure fake images are reshaped back to image format if needed\n",
        "fake_images = fake_images.view(-1, 3, 128, 128)  # Reshape back to original image format\n",
        "\n",
        "# Forward pass through the discriminator\n",
        "real_outputs = discriminator(real_images)\n",
        "fake_outputs = discriminator(fake_images.detach())  # Detach to avoid generator gradients\n",
        "\n",
        "# Ensure discriminator outputs have correct shape\n",
        "real_outputs = real_outputs.view(real_labels.shape)\n",
        "fake_outputs = fake_outputs.view(fake_labels.shape)\n",
        "\n",
        "# Compute discriminator loss\n",
        "d_loss_real = criterion(real_outputs, real_labels)\n",
        "d_loss_fake = criterion(fake_outputs, fake_labels)\n",
        "d_loss = d_loss_real + d_loss_fake\n",
        "\n",
        "print(\"Discriminator Loss:\", d_loss.item())"
      ],
      "metadata": {
        "colab": {
          "base_uri": "https://localhost:8080/"
        },
        "id": "X0xApcfs9qbb",
        "outputId": "607e3a49-74a5-46b1-bae5-16d1869c5679"
      },
      "execution_count": null,
      "outputs": [
        {
          "output_type": "stream",
          "name": "stdout",
          "text": [
            "Discriminator Loss: 1.4141020774841309\n"
          ]
        }
      ]
    },
    {
      "cell_type": "code",
      "source": [
        "import torch.optim as optim\n",
        "\n",
        "# Learning rate\n",
        "lr = 0.0002\n",
        "\n",
        "# Define optimizers\n",
        "optimizer_g = optim.Adam(generator.parameters(), lr=lr, betas=(0.5, 0.999))\n",
        "optimizer_d = optim.Adam(discriminator.parameters(), lr=lr, betas=(0.5, 0.999))\n",
        "\n",
        "print(\"Optimizers initialized ✅\")"
      ],
      "metadata": {
        "colab": {
          "base_uri": "https://localhost:8080/"
        },
        "id": "ovYpagkv938b",
        "outputId": "82ed48f6-7d09-4abc-9a25-411559aa6f80"
      },
      "execution_count": null,
      "outputs": [
        {
          "output_type": "stream",
          "name": "stdout",
          "text": [
            "Optimizers initialized ✅\n"
          ]
        }
      ]
    },
    {
      "cell_type": "code",
      "source": [
        "# Compute generator loss (flip labels to trick discriminator)\n",
        "g_loss = criterion(fake_outputs, real_labels)\n",
        "\n",
        "# Backpropagation for generator\n",
        "optimizer_g.zero_grad()\n",
        "g_loss.backward()\n",
        "optimizer_g.step()\n",
        "\n",
        "print(\"Generator Loss:\", g_loss.item())"
      ],
      "metadata": {
        "colab": {
          "base_uri": "https://localhost:8080/"
        },
        "id": "wvcz2oX_-IXF",
        "outputId": "87b5343f-3b84-48d5-8395-f57823eb8608"
      },
      "execution_count": null,
      "outputs": [
        {
          "output_type": "stream",
          "name": "stdout",
          "text": [
            "Generator Loss: 0.7126609683036804\n"
          ]
        }
      ]
    },
    {
      "cell_type": "code",
      "source": [
        "!pip install pqcrypto"
      ],
      "metadata": {
        "colab": {
          "base_uri": "https://localhost:8080/"
        },
        "id": "E5OW_r1C-KjU",
        "outputId": "6b834cf1-8a9a-449b-ded7-6761f39bfb4f"
      },
      "execution_count": null,
      "outputs": [
        {
          "output_type": "stream",
          "name": "stdout",
          "text": [
            "Collecting pqcrypto\n",
            "  Downloading pqcrypto-0.1.3.tar.gz (1.4 MB)\n",
            "\u001b[?25l     \u001b[90m━━━━━━━━━━━━━━━━━━━━━━━━━━━━━━━━━━━━━━━━\u001b[0m \u001b[32m0.0/1.4 MB\u001b[0m \u001b[31m?\u001b[0m eta \u001b[36m-:--:--\u001b[0m\r\u001b[2K     \u001b[90m━━━━━━━━━━━━━━━━━━━━━━━━━━━━━━━━━━━━━━━━\u001b[0m \u001b[32m1.4/1.4 MB\u001b[0m \u001b[31m56.1 MB/s\u001b[0m eta \u001b[36m0:00:00\u001b[0m\n",
            "\u001b[?25h  Installing build dependencies ... \u001b[?25l\u001b[?25hdone\n",
            "  Getting requirements to build wheel ... \u001b[?25l\u001b[?25hdone\n",
            "  Preparing metadata (pyproject.toml) ... \u001b[?25l\u001b[?25hdone\n",
            "Requirement already satisfied: cffi<2.0.0,>=1.14.2 in /usr/local/lib/python3.11/dist-packages (from pqcrypto) (1.17.1)\n",
            "Requirement already satisfied: pycparser in /usr/local/lib/python3.11/dist-packages (from cffi<2.0.0,>=1.14.2->pqcrypto) (2.22)\n",
            "Building wheels for collected packages: pqcrypto\n",
            "  Building wheel for pqcrypto (pyproject.toml) ... \u001b[?25l\u001b[?25hdone\n",
            "  Created wheel for pqcrypto: filename=pqcrypto-0.1.3-cp311-cp311-manylinux_2_35_x86_64.whl size=38989 sha256=380bb61d67bcdb115fc9ff859110cc1f99079e43afc07386bcbe5c97013f8696\n",
            "  Stored in directory: /root/.cache/pip/wheels/fa/dc/d9/40ea378020b3a33e7c3d8907f61e2696b8a128f547d3e9abb1\n",
            "Successfully built pqcrypto\n",
            "Installing collected packages: pqcrypto\n",
            "Successfully installed pqcrypto-0.1.3\n"
          ]
        }
      ]
    },
    {
      "cell_type": "code",
      "source": [
        "!pip install pycryptodome"
      ],
      "metadata": {
        "colab": {
          "base_uri": "https://localhost:8080/"
        },
        "id": "YyMrQNShAuhc",
        "outputId": "a30f12c7-ce67-4781-c3bf-5bd0d009ed21"
      },
      "execution_count": null,
      "outputs": [
        {
          "output_type": "stream",
          "name": "stdout",
          "text": [
            "Collecting pycryptodome\n",
            "  Downloading pycryptodome-3.21.0-cp36-abi3-manylinux_2_17_x86_64.manylinux2014_x86_64.whl.metadata (3.4 kB)\n",
            "Downloading pycryptodome-3.21.0-cp36-abi3-manylinux_2_17_x86_64.manylinux2014_x86_64.whl (2.3 MB)\n",
            "\u001b[?25l   \u001b[90m━━━━━━━━━━━━━━━━━━━━━━━━━━━━━━━━━━━━━━━━\u001b[0m \u001b[32m0.0/2.3 MB\u001b[0m \u001b[31m?\u001b[0m eta \u001b[36m-:--:--\u001b[0m\r\u001b[2K   \u001b[91m━━━━━━━━━━━━━━━━━━━━━━━━━━━━━━━━━━━━━━━\u001b[0m\u001b[91m╸\u001b[0m \u001b[32m2.3/2.3 MB\u001b[0m \u001b[31m101.8 MB/s\u001b[0m eta \u001b[36m0:00:01\u001b[0m\r\u001b[2K   \u001b[90m━━━━━━━━━━━━━━━━━━━━━━━━━━━━━━━━━━━━━━━━\u001b[0m \u001b[32m2.3/2.3 MB\u001b[0m \u001b[31m54.1 MB/s\u001b[0m eta \u001b[36m0:00:00\u001b[0m\n",
            "\u001b[?25hInstalling collected packages: pycryptodome\n",
            "Successfully installed pycryptodome-3.21.0\n"
          ]
        }
      ]
    },
    {
      "cell_type": "code",
      "source": [
        "from Crypto.PublicKey import RSA\n",
        "from Crypto.Cipher import PKCS1_OAEP\n",
        "from Crypto.Random import get_random_bytes\n",
        "from Crypto.Cipher import AES\n",
        "import base64\n",
        "\n",
        "# Generate RSA key pair\n",
        "def generate_rsa_keys(bits=2048):\n",
        "    key = RSA.generate(bits)\n",
        "    private_key = key.export_key()\n",
        "    public_key = key.publickey().export_key()\n",
        "    return private_key, public_key\n",
        "\n",
        "# RSA Encryption\n",
        "def rsa_encrypt(public_key, message):\n",
        "    key = RSA.import_key(public_key)\n",
        "    cipher_rsa = PKCS1_OAEP.new(key)\n",
        "    encrypted_message = cipher_rsa.encrypt(message.encode())\n",
        "    return encrypted_message\n",
        "\n",
        "# RSA Decryption\n",
        "def rsa_decrypt(private_key, encrypted_message):\n",
        "    key = RSA.import_key(private_key)\n",
        "    cipher_rsa = PKCS1_OAEP.new(key)\n",
        "    decrypted_message = cipher_rsa.decrypt(encrypted_message)\n",
        "    return decrypted_message.decode()\n",
        "\n",
        "# Generate RSA keys\n",
        "private_key, public_key = generate_rsa_keys()\n",
        "\n",
        "# Encrypt and decrypt a message\n",
        "message = \"This is a secret message!\"\n",
        "encrypted_message = rsa_encrypt(public_key, message)\n",
        "decrypted_message = rsa_decrypt(private_key, encrypted_message)\n",
        "\n",
        "print(\"Original Message:\", message)\n",
        "print(\"Encrypted Message:\", base64.b64encode(encrypted_message))  # Display as base64 for readability\n",
        "print(\"Decrypted Message:\", decrypted_message)"
      ],
      "metadata": {
        "colab": {
          "base_uri": "https://localhost:8080/"
        },
        "id": "XAjUlJQHBLp7",
        "outputId": "b577a0c8-4ef7-4ce7-b03c-20e33a0034f5"
      },
      "execution_count": null,
      "outputs": [
        {
          "output_type": "stream",
          "name": "stdout",
          "text": [
            "Original Message: This is a secret message!\n",
            "Encrypted Message: b'I0QRjh7hDmoP1iCzzT5l2UUrylqE0/S0DNMzhMP9QApbCYqxsFAYwoTv3ECWFkNjbrZUJPUye62rpjfQcw0JTXesfo0apDo5aGhVZhrt6Dt1A906+mBVnq/FwDWp0x4wr3lDB9ujaiMzT3E5JQIMDGAqIG2jvEL3gY5Z5bKX3kN2yNozJ7tDe+DLW+rgV9SCGlXnv8jZLjgg2qpt+v6N5gbn0oUY9LafQhOdSZSvk8MMs5surt+IPgtjD2tb6xN0q7yno4T+bFmfdYSlkNDJnefyXT0Kdv5wVmECh1oqTtpetSB2nFD6d29FL1tZTZSe13mc9vydCnPoMYzUx0FeZw=='\n",
            "Decrypted Message: This is a secret message!\n"
          ]
        }
      ]
    },
    {
      "cell_type": "code",
      "source": [
        "from google.colab import files\n",
        "uploaded = files.upload()\n",
        "\n",
        "# After uploading, load the image\n",
        "image = Image.open(\"Bhavdeep Singh Nijhawan.jpg\")"
      ],
      "metadata": {
        "colab": {
          "base_uri": "https://localhost:8080/",
          "height": 73
        },
        "id": "7BHHc8KGBRus",
        "outputId": "1aee75bb-508d-4d67-9a92-fa52c11521f9"
      },
      "execution_count": null,
      "outputs": [
        {
          "output_type": "display_data",
          "data": {
            "text/plain": [
              "<IPython.core.display.HTML object>"
            ],
            "text/html": [
              "\n",
              "     <input type=\"file\" id=\"files-e7a75274-de52-4a03-b3c6-5be4522316a6\" name=\"files[]\" multiple disabled\n",
              "        style=\"border:none\" />\n",
              "     <output id=\"result-e7a75274-de52-4a03-b3c6-5be4522316a6\">\n",
              "      Upload widget is only available when the cell has been executed in the\n",
              "      current browser session. Please rerun this cell to enable.\n",
              "      </output>\n",
              "      <script>// Copyright 2017 Google LLC\n",
              "//\n",
              "// Licensed under the Apache License, Version 2.0 (the \"License\");\n",
              "// you may not use this file except in compliance with the License.\n",
              "// You may obtain a copy of the License at\n",
              "//\n",
              "//      http://www.apache.org/licenses/LICENSE-2.0\n",
              "//\n",
              "// Unless required by applicable law or agreed to in writing, software\n",
              "// distributed under the License is distributed on an \"AS IS\" BASIS,\n",
              "// WITHOUT WARRANTIES OR CONDITIONS OF ANY KIND, either express or implied.\n",
              "// See the License for the specific language governing permissions and\n",
              "// limitations under the License.\n",
              "\n",
              "/**\n",
              " * @fileoverview Helpers for google.colab Python module.\n",
              " */\n",
              "(function(scope) {\n",
              "function span(text, styleAttributes = {}) {\n",
              "  const element = document.createElement('span');\n",
              "  element.textContent = text;\n",
              "  for (const key of Object.keys(styleAttributes)) {\n",
              "    element.style[key] = styleAttributes[key];\n",
              "  }\n",
              "  return element;\n",
              "}\n",
              "\n",
              "// Max number of bytes which will be uploaded at a time.\n",
              "const MAX_PAYLOAD_SIZE = 100 * 1024;\n",
              "\n",
              "function _uploadFiles(inputId, outputId) {\n",
              "  const steps = uploadFilesStep(inputId, outputId);\n",
              "  const outputElement = document.getElementById(outputId);\n",
              "  // Cache steps on the outputElement to make it available for the next call\n",
              "  // to uploadFilesContinue from Python.\n",
              "  outputElement.steps = steps;\n",
              "\n",
              "  return _uploadFilesContinue(outputId);\n",
              "}\n",
              "\n",
              "// This is roughly an async generator (not supported in the browser yet),\n",
              "// where there are multiple asynchronous steps and the Python side is going\n",
              "// to poll for completion of each step.\n",
              "// This uses a Promise to block the python side on completion of each step,\n",
              "// then passes the result of the previous step as the input to the next step.\n",
              "function _uploadFilesContinue(outputId) {\n",
              "  const outputElement = document.getElementById(outputId);\n",
              "  const steps = outputElement.steps;\n",
              "\n",
              "  const next = steps.next(outputElement.lastPromiseValue);\n",
              "  return Promise.resolve(next.value.promise).then((value) => {\n",
              "    // Cache the last promise value to make it available to the next\n",
              "    // step of the generator.\n",
              "    outputElement.lastPromiseValue = value;\n",
              "    return next.value.response;\n",
              "  });\n",
              "}\n",
              "\n",
              "/**\n",
              " * Generator function which is called between each async step of the upload\n",
              " * process.\n",
              " * @param {string} inputId Element ID of the input file picker element.\n",
              " * @param {string} outputId Element ID of the output display.\n",
              " * @return {!Iterable<!Object>} Iterable of next steps.\n",
              " */\n",
              "function* uploadFilesStep(inputId, outputId) {\n",
              "  const inputElement = document.getElementById(inputId);\n",
              "  inputElement.disabled = false;\n",
              "\n",
              "  const outputElement = document.getElementById(outputId);\n",
              "  outputElement.innerHTML = '';\n",
              "\n",
              "  const pickedPromise = new Promise((resolve) => {\n",
              "    inputElement.addEventListener('change', (e) => {\n",
              "      resolve(e.target.files);\n",
              "    });\n",
              "  });\n",
              "\n",
              "  const cancel = document.createElement('button');\n",
              "  inputElement.parentElement.appendChild(cancel);\n",
              "  cancel.textContent = 'Cancel upload';\n",
              "  const cancelPromise = new Promise((resolve) => {\n",
              "    cancel.onclick = () => {\n",
              "      resolve(null);\n",
              "    };\n",
              "  });\n",
              "\n",
              "  // Wait for the user to pick the files.\n",
              "  const files = yield {\n",
              "    promise: Promise.race([pickedPromise, cancelPromise]),\n",
              "    response: {\n",
              "      action: 'starting',\n",
              "    }\n",
              "  };\n",
              "\n",
              "  cancel.remove();\n",
              "\n",
              "  // Disable the input element since further picks are not allowed.\n",
              "  inputElement.disabled = true;\n",
              "\n",
              "  if (!files) {\n",
              "    return {\n",
              "      response: {\n",
              "        action: 'complete',\n",
              "      }\n",
              "    };\n",
              "  }\n",
              "\n",
              "  for (const file of files) {\n",
              "    const li = document.createElement('li');\n",
              "    li.append(span(file.name, {fontWeight: 'bold'}));\n",
              "    li.append(span(\n",
              "        `(${file.type || 'n/a'}) - ${file.size} bytes, ` +\n",
              "        `last modified: ${\n",
              "            file.lastModifiedDate ? file.lastModifiedDate.toLocaleDateString() :\n",
              "                                    'n/a'} - `));\n",
              "    const percent = span('0% done');\n",
              "    li.appendChild(percent);\n",
              "\n",
              "    outputElement.appendChild(li);\n",
              "\n",
              "    const fileDataPromise = new Promise((resolve) => {\n",
              "      const reader = new FileReader();\n",
              "      reader.onload = (e) => {\n",
              "        resolve(e.target.result);\n",
              "      };\n",
              "      reader.readAsArrayBuffer(file);\n",
              "    });\n",
              "    // Wait for the data to be ready.\n",
              "    let fileData = yield {\n",
              "      promise: fileDataPromise,\n",
              "      response: {\n",
              "        action: 'continue',\n",
              "      }\n",
              "    };\n",
              "\n",
              "    // Use a chunked sending to avoid message size limits. See b/62115660.\n",
              "    let position = 0;\n",
              "    do {\n",
              "      const length = Math.min(fileData.byteLength - position, MAX_PAYLOAD_SIZE);\n",
              "      const chunk = new Uint8Array(fileData, position, length);\n",
              "      position += length;\n",
              "\n",
              "      const base64 = btoa(String.fromCharCode.apply(null, chunk));\n",
              "      yield {\n",
              "        response: {\n",
              "          action: 'append',\n",
              "          file: file.name,\n",
              "          data: base64,\n",
              "        },\n",
              "      };\n",
              "\n",
              "      let percentDone = fileData.byteLength === 0 ?\n",
              "          100 :\n",
              "          Math.round((position / fileData.byteLength) * 100);\n",
              "      percent.textContent = `${percentDone}% done`;\n",
              "\n",
              "    } while (position < fileData.byteLength);\n",
              "  }\n",
              "\n",
              "  // All done.\n",
              "  yield {\n",
              "    response: {\n",
              "      action: 'complete',\n",
              "    }\n",
              "  };\n",
              "}\n",
              "\n",
              "scope.google = scope.google || {};\n",
              "scope.google.colab = scope.google.colab || {};\n",
              "scope.google.colab._files = {\n",
              "  _uploadFiles,\n",
              "  _uploadFilesContinue,\n",
              "};\n",
              "})(self);\n",
              "</script> "
            ]
          },
          "metadata": {}
        },
        {
          "output_type": "stream",
          "name": "stdout",
          "text": [
            "Saving Bhavdeep Singh Nijhawan.jpg to Bhavdeep Singh Nijhawan.jpg\n"
          ]
        }
      ]
    },
    {
      "cell_type": "code",
      "source": [
        "from Crypto.PublicKey import RSA\n",
        "from Crypto.Cipher import PKCS1_OAEP\n",
        "import base64\n",
        "from PIL import Image\n",
        "import io\n",
        "\n",
        "# Function to encrypt data in chunks\n",
        "def rsa_encrypt_in_chunks(public_key, data, chunk_size=214):\n",
        "    cipher_rsa = PKCS1_OAEP.new(RSA.import_key(public_key))\n",
        "    encrypted_data = b\"\"\n",
        "\n",
        "    # Process the data in chunks\n",
        "    for i in range(0, len(data), chunk_size):\n",
        "        chunk = data[i:i + chunk_size]\n",
        "        encrypted_data += cipher_rsa.encrypt(chunk)\n",
        "\n",
        "    return encrypted_data\n",
        "\n",
        "# Function to decrypt the data in chunks\n",
        "def rsa_decrypt_in_chunks(private_key, encrypted_data, chunk_size=256):\n",
        "    cipher_rsa = PKCS1_OAEP.new(RSA.import_key(private_key))\n",
        "    decrypted_data = b\"\"\n",
        "\n",
        "    # Process the data in chunks\n",
        "    for i in range(0, len(encrypted_data), chunk_size):\n",
        "        chunk = encrypted_data[i:i + chunk_size]\n",
        "        decrypted_data += cipher_rsa.decrypt(chunk)\n",
        "\n",
        "    return decrypted_data\n",
        "\n",
        "# Generate RSA keys\n",
        "private_key, public_key = generate_rsa_keys()\n",
        "\n",
        "# Convert Image to bytes\n",
        "image = Image.open(\"Bhavdeep Singh Nijhawan.jpg\")\n",
        "img_byte_arr = io.BytesIO()\n",
        "image.save(img_byte_arr, format='JPEG')\n",
        "img_bytes = img_byte_arr.getvalue()\n",
        "\n",
        "# Encrypt image bytes in chunks\n",
        "encrypted_img = rsa_encrypt_in_chunks(public_key, img_bytes)\n",
        "\n",
        "# Decrypt image bytes\n",
        "decrypted_img_bytes = rsa_decrypt_in_chunks(private_key, encrypted_img)\n",
        "\n",
        "# Convert bytes back to image\n",
        "decrypted_img = Image.open(io.BytesIO(decrypted_img_bytes))\n",
        "decrypted_img.show()"
      ],
      "metadata": {
        "id": "7XEeklCsByTT"
      },
      "execution_count": null,
      "outputs": []
    },
    {
      "cell_type": "code",
      "source": [
        "from IPython.display import display\n",
        "\n",
        "# Display the decrypted image inline in the notebook\n",
        "display(decrypted_img)"
      ],
      "metadata": {
        "colab": {
          "base_uri": "https://localhost:8080/",
          "height": 617
        },
        "id": "UgO-9ZQYCGmj",
        "outputId": "940dbfc1-faa8-416a-a244-b354ad7344bf"
      },
      "execution_count": null,
      "outputs": [
        {
          "output_type": "display_data",
          "data": {
            "text/plain": [
              "<PIL.JpegImagePlugin.JpegImageFile image mode=RGB size=600x600>"
            ],
            "image/png": "[encoded data removed]",
            "image/jpeg": "[encoded data removed]"
          },
          "metadata": {}
        }
      ]
    },
    {
      "cell_type": "code",
      "source": [
        "from Crypto.PublicKey import RSA\n",
        "from Crypto.Cipher import PKCS1_OAEP\n",
        "import base64\n",
        "from PIL import Image\n",
        "import io\n",
        "from IPython.display import display\n",
        "\n",
        "# Function to encrypt data in chunks\n",
        "def rsa_encrypt_in_chunks(public_key, data, chunk_size=214):\n",
        "    cipher_rsa = PKCS1_OAEP.new(RSA.import_key(public_key))\n",
        "    encrypted_data = b\"\"\n",
        "\n",
        "    # Process the data in chunks\n",
        "    for i in range(0, len(data), chunk_size):\n",
        "        chunk = data[i:i + chunk_size]\n",
        "        encrypted_data += cipher_rsa.encrypt(chunk)\n",
        "\n",
        "    return encrypted_data\n",
        "\n",
        "# Function to decrypt the data in chunks\n",
        "def rsa_decrypt_in_chunks(private_key, encrypted_data, chunk_size=256):\n",
        "    cipher_rsa = PKCS1_OAEP.new(RSA.import_key(private_key))\n",
        "    decrypted_data = b\"\"\n",
        "\n",
        "    # Process the data in chunks\n",
        "    for i in range(0, len(encrypted_data), chunk_size):\n",
        "        chunk = encrypted_data[i:i + chunk_size]\n",
        "        decrypted_data += cipher_rsa.decrypt(chunk)\n",
        "\n",
        "    return decrypted_data\n",
        "\n",
        "# Generate RSA keys\n",
        "private_key, public_key = generate_rsa_keys()\n",
        "\n",
        "# Convert Image to bytes\n",
        "image = Image.open(\"Bhavdeep Singh Nijhawan.jpg\")\n",
        "img_byte_arr = io.BytesIO()\n",
        "image.save(img_byte_arr, format='JPEG')\n",
        "img_bytes = img_byte_arr.getvalue()\n",
        "\n",
        "# Encrypt image bytes in chunks\n",
        "encrypted_img = rsa_encrypt_in_chunks(public_key, img_bytes)\n",
        "\n",
        "# Decrypt image bytes\n",
        "decrypted_img_bytes = rsa_decrypt_in_chunks(private_key, encrypted_img)\n",
        "\n",
        "# Convert bytes back to image\n",
        "decrypted_img = Image.open(io.BytesIO(decrypted_img_bytes))\n",
        "\n",
        "# Display the decrypted image inline in the notebook\n",
        "display(decrypted_img)"
      ],
      "metadata": {
        "colab": {
          "base_uri": "https://localhost:8080/",
          "height": 617
        },
        "id": "VHeViBxLCJ2Y",
        "outputId": "0b242620-b6be-42f6-e954-86d1ac075708"
      },
      "execution_count": null,
      "outputs": [
        {
          "output_type": "display_data",
          "data": {
            "text/plain": [
              "<PIL.JpegImagePlugin.JpegImageFile image mode=RGB size=600x600>"
            ],
            "image/png": "[encoded data removed]",
            "image/jpeg": "[encoded data removed]"
          },
          "metadata": {}
        }
      ]
    },
    {
      "cell_type": "code",
      "source": [
        "import torch\n",
        "import torch.nn as nn\n",
        "import torch.optim as optim\n",
        "\n",
        "# Define the Generator (Key Generation)\n",
        "class KeyGenerator(nn.Module):\n",
        "    def __init__(self):\n",
        "        super(KeyGenerator, self).__init__()\n",
        "        self.model = nn.Sequential(\n",
        "            nn.Linear(100, 256),  # Latent vector input (size 100)\n",
        "            nn.ReLU(),\n",
        "            nn.Linear(256, 512),\n",
        "            nn.ReLU(),\n",
        "            nn.Linear(512, 1024),\n",
        "            nn.ReLU(),\n",
        "            nn.Linear(1024, 256),  # Output a key of size 256 bytes\n",
        "            nn.Tanh()\n",
        "        )\n",
        "\n",
        "    def forward(self, z):\n",
        "        return self.model(z)\n",
        "\n",
        "# Define the Discriminator (Key Validator)\n",
        "class KeyDiscriminator(nn.Module):\n",
        "    def __init__(self):\n",
        "        super(KeyDiscriminator, self).__init__()\n",
        "        self.model = nn.Sequential(\n",
        "            nn.Linear(256, 512),\n",
        "            nn.LeakyReLU(0.2),\n",
        "            nn.Linear(512, 256),\n",
        "            nn.LeakyReLU(0.2),\n",
        "            nn.Linear(256, 1),\n",
        "            nn.Sigmoid()\n",
        "        )\n",
        "\n",
        "    def forward(self, x):\n",
        "        return self.model(x)\n",
        "\n",
        "# Initialize the Generator and Discriminator\n",
        "generator = KeyGenerator()\n",
        "discriminator = KeyDiscriminator()\n",
        "\n",
        "# Set up the loss function and optimizers\n",
        "criterion = nn.BCELoss()  # Binary Cross Entropy loss\n",
        "lr = 0.0002\n",
        "optimizer_g = optim.Adam(generator.parameters(), lr=lr, betas=(0.5, 0.999))\n",
        "optimizer_d = optim.Adam(discriminator.parameters(), lr=lr, betas=(0.5, 0.999))\n",
        "\n",
        "# Example to test key generation\n",
        "z = torch.randn(1, 100)  # Latent vector (random noise) for generator input\n",
        "generated_key = generator(z)  # Generated cryptographic key\n",
        "\n",
        "print(\"Generated Key:\", generated_key)"
      ],
      "metadata": {
        "colab": {
          "base_uri": "https://localhost:8080/"
        },
        "id": "uB0dKKSFCWwO",
        "outputId": "ecbe79c4-31e3-4af6-9cea-0fb62cce3b26"
      },
      "execution_count": null,
      "outputs": [
        {
          "output_type": "stream",
          "name": "stdout",
          "text": [
            "Generated Key: tensor([[-6.8881e-02,  7.2613e-02,  3.3107e-02, -1.1498e-02, -1.3210e-01,\n",
            "          2.0786e-02,  2.8029e-02, -2.2269e-02, -4.5814e-02, -1.5954e-02,\n",
            "         -4.9222e-02, -4.5696e-03,  3.0171e-02,  1.1435e-02,  4.8934e-02,\n",
            "          4.1982e-02,  5.6650e-03, -1.4242e-02, -2.8076e-02, -1.0034e-01,\n",
            "          2.0684e-02,  2.7028e-02, -5.4606e-02,  8.7033e-02,  1.3797e-01,\n",
            "         -6.4746e-02,  2.3187e-02, -4.8672e-02,  2.1770e-02, -9.1890e-02,\n",
            "          1.9491e-02, -4.6153e-02, -2.5959e-02, -3.7090e-02,  2.1502e-02,\n",
            "         -3.6476e-04, -2.3541e-02, -5.2262e-02,  1.0291e-01, -1.0211e-02,\n",
            "          4.1263e-02, -3.9263e-02,  2.6024e-03,  1.3162e-04, -1.5588e-01,\n",
            "         -3.5405e-02, -3.0193e-02, -3.6802e-02, -1.3391e-02,  1.9736e-02,\n",
            "          1.0449e-01, -7.9604e-03, -3.6353e-02,  1.3042e-02,  3.2802e-02,\n",
            "         -4.5484e-02,  5.6453e-02, -4.5781e-02, -7.5647e-02,  1.6427e-04,\n",
            "         -2.4918e-02, -8.5992e-02,  8.1655e-03,  2.9840e-02, -2.9516e-02,\n",
            "         -1.5272e-02, -1.7977e-02, -3.8237e-02, -1.1823e-02, -1.5030e-03,\n",
            "         -2.5612e-02, -5.1831e-02,  2.2329e-02,  5.2487e-02, -1.0947e-02,\n",
            "         -1.6390e-02,  8.4318e-03, -3.4263e-02,  2.7111e-02, -5.8325e-02,\n",
            "          9.6779e-02, -7.1954e-03, -2.6488e-02,  5.6258e-02,  7.3393e-03,\n",
            "         -7.1380e-02, -3.7411e-02,  8.1854e-02, -8.6807e-02, -1.0788e-01,\n",
            "         -2.5340e-02, -4.7164e-02,  5.8160e-02, -3.3708e-02, -6.5233e-02,\n",
            "         -5.0023e-02, -3.2429e-02, -4.3135e-02,  8.1681e-03, -3.5045e-02,\n",
            "         -5.5654e-02,  1.6994e-02, -4.9050e-02,  4.2632e-02,  1.4883e-02,\n",
            "          1.0822e-02,  6.3450e-02,  1.6967e-02, -5.0490e-02,  3.9147e-03,\n",
            "          2.6520e-02,  7.9275e-03,  5.6594e-02, -5.2750e-02,  1.1941e-01,\n",
            "         -4.5429e-02,  2.5955e-02, -1.2301e-03, -7.5753e-02, -2.5634e-02,\n",
            "         -1.2131e-03,  3.4278e-03,  1.3259e-01, -8.0115e-02,  4.5407e-02,\n",
            "          4.2329e-02,  8.3182e-02,  4.5816e-02, -8.0832e-02, -3.1294e-02,\n",
            "         -3.6696e-03, -3.1403e-02, -3.1838e-02,  1.0745e-01,  1.8057e-02,\n",
            "         -7.6975e-03,  5.0714e-02,  1.0237e-02, -1.6069e-02,  4.0352e-02,\n",
            "          3.3594e-02,  5.3172e-03, -2.1532e-03, -5.2371e-02, -5.4089e-02,\n",
            "          2.3166e-02, -6.5414e-02, -1.6923e-02, -1.5110e-02,  1.3701e-02,\n",
            "          6.5149e-02, -3.8241e-02, -1.1971e-02,  1.8414e-02, -3.2854e-02,\n",
            "          4.9144e-02, -1.9558e-02, -1.6550e-02,  9.2492e-02,  2.4795e-02,\n",
            "          1.8582e-02, -6.6131e-02,  5.8082e-02,  4.8534e-02,  7.6059e-03,\n",
            "         -4.0941e-02,  2.9864e-02,  1.9270e-02,  1.2980e-02,  7.6084e-02,\n",
            "          5.2339e-02, -2.1174e-02,  9.2496e-02, -1.5468e-02,  1.7319e-02,\n",
            "          5.3550e-02,  7.3339e-02,  1.5542e-02, -6.6513e-02, -8.2173e-03,\n",
            "          7.0721e-04,  1.2453e-02, -1.2249e-01, -2.6810e-02, -4.5498e-02,\n",
            "          3.0313e-02,  1.1639e-02, -4.2297e-02, -7.4186e-02,  1.6377e-02,\n",
            "          2.1850e-02,  4.8882e-02, -7.1739e-02,  4.8186e-02,  2.2521e-02,\n",
            "          5.8716e-02,  1.3227e-01, -3.1655e-02, -1.8601e-02,  7.4507e-02,\n",
            "          1.6482e-02,  2.5141e-03,  3.9738e-02,  6.1593e-02,  4.5697e-02,\n",
            "         -3.6554e-02,  5.0936e-02, -1.1197e-03,  2.8614e-02, -1.4610e-02,\n",
            "         -1.8807e-02, -9.9958e-04,  3.1475e-02,  4.6262e-02,  7.2576e-02,\n",
            "         -1.0479e-01, -1.7818e-02,  4.8061e-02, -9.2954e-02,  6.3524e-02,\n",
            "          4.6529e-04,  1.5392e-03,  4.6098e-02,  6.3039e-02, -6.5436e-02,\n",
            "          5.4587e-02,  5.2616e-02, -7.0726e-02,  3.2720e-02, -5.1105e-02,\n",
            "         -1.3337e-03, -1.7250e-02, -9.7012e-04,  5.6877e-02,  3.7276e-02,\n",
            "          3.2560e-03, -2.1584e-02, -5.4386e-02,  2.4313e-02, -2.0098e-02,\n",
            "         -2.4963e-02,  7.2349e-03,  3.3267e-02,  3.3851e-02, -9.8697e-03,\n",
            "          1.9786e-02, -1.1114e-02, -1.1036e-03,  3.9094e-02,  4.6906e-02,\n",
            "          1.0332e-01,  5.5643e-02, -4.9837e-03, -1.8669e-03, -1.0848e-02,\n",
            "          6.0575e-02]], grad_fn=<TanhBackward0>)\n"
          ]
        }
      ]
    },
    {
      "cell_type": "code",
      "source": [
        "# Training loop\n",
        "num_epochs = 1000\n",
        "for epoch in range(num_epochs):\n",
        "    # Training Discriminator\n",
        "    real_keys = torch.randn(32, 256)  # Real keys (can be randomly generated or predefined)\n",
        "    fake_keys = generator(torch.randn(32, 100)).detach()  # Fake keys from generator\n",
        "\n",
        "    optimizer_d.zero_grad()\n",
        "\n",
        "    real_labels = torch.ones(32, 1)\n",
        "    fake_labels = torch.zeros(32, 1)\n",
        "\n",
        "    real_outputs = discriminator(real_keys)\n",
        "    fake_outputs = discriminator(fake_keys)\n",
        "\n",
        "    d_loss_real = criterion(real_outputs, real_labels)\n",
        "    d_loss_fake = criterion(fake_outputs, fake_labels)\n",
        "    d_loss = d_loss_real + d_loss_fake\n",
        "\n",
        "    d_loss.backward()\n",
        "    optimizer_d.step()\n",
        "\n",
        "    # Training Generator\n",
        "    optimizer_g.zero_grad()\n",
        "\n",
        "    fake_keys = generator(torch.randn(32, 100))  # Generate new fake keys\n",
        "    fake_outputs = discriminator(fake_keys)\n",
        "\n",
        "    g_loss = criterion(fake_outputs, real_labels)  # We want the discriminator to think the fake keys are real\n",
        "\n",
        "    g_loss.backward()\n",
        "    optimizer_g.step()\n",
        "\n",
        "    # Print loss\n",
        "    if epoch % 100 == 0:\n",
        "        print(f'Epoch [{epoch}/{num_epochs}], D Loss: {d_loss.item()}, G Loss: {g_loss.item()}')\n",
        "\n",
        "    # Optionally, save the generated keys for analysis"
      ],
      "metadata": {
        "colab": {
          "base_uri": "https://localhost:8080/"
        },
        "id": "jbr1iRFUCbul",
        "outputId": "0883ef49-2d0c-467d-9c32-625caa11deeb"
      },
      "execution_count": null,
      "outputs": [
        {
          "output_type": "stream",
          "name": "stdout",
          "text": [
            "Epoch [0/1000], D Loss: 1.423659086227417, G Loss: 0.7142772674560547\n",
            "Epoch [100/1000], D Loss: 1.088102102279663, G Loss: 0.941788911819458\n",
            "Epoch [200/1000], D Loss: 0.8983352184295654, G Loss: 1.2705962657928467\n",
            "Epoch [300/1000], D Loss: 0.9377832412719727, G Loss: 1.4516515731811523\n",
            "Epoch [400/1000], D Loss: 0.913277268409729, G Loss: 2.3660874366760254\n",
            "Epoch [500/1000], D Loss: 0.5581562519073486, G Loss: 3.024909734725952\n",
            "Epoch [600/1000], D Loss: 0.5856430530548096, G Loss: 4.27862548828125\n",
            "Epoch [700/1000], D Loss: 0.32984185218811035, G Loss: 4.248719692230225\n",
            "Epoch [800/1000], D Loss: 0.37063753604888916, G Loss: 5.343463897705078\n",
            "Epoch [900/1000], D Loss: 0.30999910831451416, G Loss: 4.992666244506836\n"
          ]
        }
      ]
    },
    {
      "cell_type": "code",
      "source": [
        "# Now use RSA to encrypt the AES key (no decoding needed, keep it as binary)\n",
        "encrypted_aes_key = rsa_encrypt(public_key, base64.b64encode(aes_key).decode())  # base64 encode the binary AES key\n",
        "print(f\"Encrypted AES Key: {encrypted_aes_key}\")"
      ],
      "metadata": {
        "colab": {
          "base_uri": "https://localhost:8080/"
        },
        "id": "Eo2B5oZRDM9L",
        "outputId": "e5b56886-24d5-4dbf-94b1-67b98d8a6a6e"
      },
      "execution_count": null,
      "outputs": [
        {
          "output_type": "stream",
          "name": "stdout",
          "text": [
            "Encrypted AES Key: SA2mPh0p6oVDTEXwWXdou9v8621ZNGAGk4F9yFGAdaBIJt3BAeH8FSC+/IDsmIoE6yApxuquCLG2f0MEp+1NhQzfwT1Hu51eGRYo00r61BfETRpePMhvUwk7MSSXufV4tQWuOeciStggJ+YOqoK1FrG3ha9gHHNuHJHE2ffz99RTz9unKSif/fN9oUiX7AbIs/FNpNPyfc6WG/pZFfZtxgGOPp/Xydcn4yG7FLDFkrZvHxIizYTLv1Uq1fscxKCoK/P7x4/t1T6XSIzcMed56DdA17ZKTASpyiEZkB57yBa4OFgof2/VGUit0VD8CPEG7rcY4V6BWNMtzGZCHI2H1Q==\n"
          ]
        }
      ]
    },
    {
      "cell_type": "code",
      "source": [
        "from Crypto.PublicKey import RSA\n",
        "\n",
        "# Generate RSA key pair\n",
        "key = RSA.generate(2048)\n",
        "\n",
        "# Export and save the private key\n",
        "private_key = key.export_key()\n",
        "with open(\"private.pem\", \"wb\") as f:\n",
        "    f.write(private_key)\n",
        "\n",
        "# Export and save the public key\n",
        "public_key = key.publickey().export_key()\n",
        "with open(\"public.pem\", \"wb\") as f:\n",
        "    f.write(public_key)\n",
        "\n",
        "print(\"RSA key pair generated and saved.\")"
      ],
      "metadata": {
        "colab": {
          "base_uri": "https://localhost:8080/"
        },
        "id": "7SeugrENDtPp",
        "outputId": "6fb3e241-cee6-4603-ec92-c9eaf94ddca5"
      },
      "execution_count": null,
      "outputs": [
        {
          "output_type": "stream",
          "name": "stdout",
          "text": [
            "RSA key pair generated and saved.\n"
          ]
        }
      ]
    },
    {
      "cell_type": "code",
      "source": [
        "from Crypto.PublicKey import RSA\n",
        "from Crypto.Cipher import PKCS1_OAEP\n",
        "from Crypto.Cipher import AES\n",
        "from Crypto.Util.Padding import pad\n",
        "import base64\n",
        "import os\n",
        "\n",
        "# Function to generate an AES key\n",
        "def generate_aes_key():\n",
        "    return os.urandom(32)  # AES-256 key (32 bytes)\n",
        "\n",
        "# Function to encrypt data using AES\n",
        "def aes_encrypt(data, aes_key):\n",
        "    cipher_aes = AES.new(aes_key, AES.MODE_CBC)  # Using CBC mode\n",
        "    ct_bytes = cipher_aes.encrypt(pad(data.encode(), AES.block_size))\n",
        "    iv = base64.b64encode(cipher_aes.iv).decode('utf-8')  # IV used in encryption\n",
        "    ct = base64.b64encode(ct_bytes).decode('utf-8')  # Ciphertext encoded in base64\n",
        "    return iv, ct\n",
        "\n",
        "# Function to encrypt the AES key with RSA\n",
        "def rsa_encrypt(public_key, data):\n",
        "    cipher_rsa = PKCS1_OAEP.new(public_key)\n",
        "    encrypted_data = cipher_rsa.encrypt(data)  # No need to encode() for bytes data\n",
        "    return base64.b64encode(encrypted_data).decode()\n",
        "\n",
        "# Function to load RSA public key from a file\n",
        "def load_public_key(key_file):\n",
        "    with open(key_file, 'r') as f:\n",
        "        key_data = f.read()\n",
        "    return RSA.import_key(key_data)\n",
        "\n",
        "# Example of usage\n",
        "# Generate AES key\n",
        "aes_key = generate_aes_key()\n",
        "\n",
        "# Encrypt some data using AES\n",
        "data_to_encrypt = \"This is some data to encrypt.\"\n",
        "iv, encrypted_data = aes_encrypt(data_to_encrypt, aes_key)\n",
        "print(f\"Encrypted Data (AES): {encrypted_data}\")\n",
        "\n",
        "# Load RSA public key (make sure you have an RSA public key in a file called 'public.pem')\n",
        "public_key = load_public_key('public.pem')\n",
        "\n",
        "# Encrypt AES key with RSA\n",
        "encrypted_aes_key = rsa_encrypt(public_key, aes_key)\n",
        "print(f\"Encrypted AES Key: {encrypted_aes_key}\")"
      ],
      "metadata": {
        "colab": {
          "base_uri": "https://localhost:8080/"
        },
        "id": "pizzYZ0-D9kk",
        "outputId": "c6b5e2e5-ac00-4f19-b147-cee820f89440"
      },
      "execution_count": null,
      "outputs": [
        {
          "output_type": "stream",
          "name": "stdout",
          "text": [
            "Encrypted Data (AES): E+J7pyBwJGM9GDM3KDbO9AyHKEETRQl8vsfYGUkzFr0=\n",
            "Encrypted AES Key: CK8/CVHc8xkgU54I80nNpKBzSsuJ1UyjrLnSaJK/SAwNz9KzQBH/1sR+kLDHJXnuH4eau63iySsx0v0vuMjr7Reb1LW8Xc5qKUoLufT8KERcbU1B1o4ZxIbtonHhYlPuJTxbDRCTyMlgWJHtl7e11kO8O+LSdem+D+VUW1Ofk3JRQ0DsqaWIX2veN3nmk2pB9ozIiV84/PwScRHM/xhaHwHgVlT5DFV0ec2zswWvj2gNCTnPao31jbc90G46ALD8JRl3ZfiG8sYFO7MF28iHyZ8I93AGg0AC6UYxh/AB0KSNVBfVOKFp45zK7TWh0WGd1CRM/Rek1Z19AqOwKmJcNw==\n"
          ]
        }
      ]
    },
    {
      "cell_type": "code",
      "source": [
        "from Crypto.Cipher import AES\n",
        "from Crypto.Cipher import PKCS1_OAEP\n",
        "import base64\n",
        "\n",
        "# Function to load RSA private key from a file\n",
        "def load_private_key(key_file):\n",
        "    with open(key_file, 'rb') as f:\n",
        "        key_data = f.read()\n",
        "    return RSA.import_key(key_data)\n",
        "\n",
        "# Function to decrypt AES key using RSA\n",
        "def rsa_decrypt(private_key, encrypted_data):\n",
        "    cipher_rsa = PKCS1_OAEP.new(private_key)\n",
        "    decrypted_data = cipher_rsa.decrypt(base64.b64decode(encrypted_data))\n",
        "    return decrypted_data\n",
        "\n",
        "# Load RSA private key from the generated file 'private.pem'\n",
        "private_key = load_private_key('private.pem')\n",
        "\n",
        "# Decrypt the AES key\n",
        "decrypted_aes_key = rsa_decrypt(private_key, encrypted_aes_key)\n",
        "print(f\"Decrypted AES Key: {decrypted_aes_key}\")\n",
        "\n",
        "# AES decryption setup\n",
        "nonce = b'\\x00' * 16  # Replace with actual nonce used during encryption\n",
        "tag = b''  # Replace with actual tag used during encryption\n",
        "\n",
        "# Initialize AES cipher for decryption (EAX mode)\n",
        "cipher_aes = AES.new(decrypted_aes_key, AES.MODE_EAX, nonce=nonce)\n",
        "\n",
        "# Decrypt the data using AES\n",
        "decrypted_data = cipher_aes.decrypt_and_verify(base64.b64decode(encrypted_aes_data), tag)\n",
        "\n",
        "print(f\"Decrypted Data: {decrypted_data.decode()}\")"
      ],
      "metadata": {
        "colab": {
          "base_uri": "https://localhost:8080/",
          "height": 383
        },
        "id": "-_KUGGadEILq",
        "outputId": "2eefc2ea-4395-4ab1-b7fd-b0e166b98ae8"
      },
      "execution_count": null,
      "outputs": [
        {
          "output_type": "error",
          "ename": "ModuleNotFoundError",
          "evalue": "No module named 'Crypto'",
          "traceback": [
            "\u001b[0;31m---------------------------------------------------------------------------\u001b[0m",
            "\u001b[0;31mModuleNotFoundError\u001b[0m                       Traceback (most recent call last)",
            "\u001b[0;32m<ipython-input-2-de7398f59a32>\u001b[0m in \u001b[0;36m<cell line: 0>\u001b[0;34m()\u001b[0m\n\u001b[0;32m----> 1\u001b[0;31m \u001b[0;32mfrom\u001b[0m \u001b[0mCrypto\u001b[0m\u001b[0;34m.\u001b[0m\u001b[0mCipher\u001b[0m \u001b[0;32mimport\u001b[0m \u001b[0mAES\u001b[0m\u001b[0;34m\u001b[0m\u001b[0;34m\u001b[0m\u001b[0m\n\u001b[0m\u001b[1;32m      2\u001b[0m \u001b[0;32mfrom\u001b[0m \u001b[0mCrypto\u001b[0m\u001b[0;34m.\u001b[0m\u001b[0mCipher\u001b[0m \u001b[0;32mimport\u001b[0m \u001b[0mPKCS1_OAEP\u001b[0m\u001b[0;34m\u001b[0m\u001b[0;34m\u001b[0m\u001b[0m\n\u001b[1;32m      3\u001b[0m \u001b[0;32mimport\u001b[0m \u001b[0mbase64\u001b[0m\u001b[0;34m\u001b[0m\u001b[0;34m\u001b[0m\u001b[0m\n\u001b[1;32m      4\u001b[0m \u001b[0;34m\u001b[0m\u001b[0m\n\u001b[1;32m      5\u001b[0m \u001b[0;31m# Function to load RSA private key from a file\u001b[0m\u001b[0;34m\u001b[0m\u001b[0;34m\u001b[0m\u001b[0m\n",
            "\u001b[0;31mModuleNotFoundError\u001b[0m: No module named 'Crypto'",
            "",
            "\u001b[0;31m---------------------------------------------------------------------------\u001b[0;32m\nNOTE: If your import is failing due to a missing package, you can\nmanually install dependencies using either !pip or !apt.\n\nTo view examples of installing some common dependencies, click the\n\"Open Examples\" button below.\n\u001b[0;31m---------------------------------------------------------------------------\u001b[0m\n"
          ],
          "errorDetails": {
            "actions": [
              {
                "action": "open_url",
                "actionText": "Open Examples",
                "url": "/notebooks/snippets/importing_libraries.ipynb"
              }
            ]
          }
        }
      ]
    }
  ],
  "metadata": {
    "colab": {
      "provenance": [],
      "gpuType": "T4",
      "authorship_tag": "ABX9TyPmgPM/Bqdwu6tpAu7ORgMg",
      "include_colab_link": true
    },
    "kernelspec": {
      "display_name": "Python 3",
      "name": "python3"
    },
    "language_info": {
      "name": "python"
    },
    "accelerator": "GPU"
  },
  "nbformat": 4,
  "nbformat_minor": 0
}