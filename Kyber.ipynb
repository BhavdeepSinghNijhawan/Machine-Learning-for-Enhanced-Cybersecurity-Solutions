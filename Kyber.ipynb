{
  "nbformat": 4,
  "nbformat_minor": 0,
  "metadata": {
    "colab": {
      "provenance": [],
      "authorship_tag": "ABX9TyPghW/bZDEv1cwGVvsWk+De",
      "include_colab_link": true
    },
    "kernelspec": {
      "name": "python3",
      "display_name": "Python 3"
    },
    "language_info": {
      "name": "python"
    }
  },
  "cells": [
    {
      "cell_type": "markdown",
      "metadata": {
        "id": "view-in-github",
        "colab_type": "text"
      },
      "source": [
        "<a href=\"https://colab.research.google.com/github/BhavdeepSinghNijhawan/Machine-Learning-for-Enhanced-Cybersecurity-Solutions/blob/main/Kyber.ipynb\" target=\"_parent\"><img src=\"https://colab.research.google.com/assets/colab-badge.svg\" alt=\"Open In Colab\"/></a>"
      ]
    },
    {
      "cell_type": "code",
      "execution_count": 9,
      "metadata": {
        "colab": {
          "base_uri": "https://localhost:8080/"
        },
        "id": "fzc8L4v88SLq",
        "outputId": "7c58cc89-9a40-4483-9d50-9c2284cbdca9"
      },
      "outputs": [
        {
          "output_type": "stream",
          "name": "stdout",
          "text": [
            "Collecting git+https://github.com/GiacomoPope/kyber-py.git\n",
            "  Cloning https://github.com/GiacomoPope/kyber-py.git to /tmp/pip-req-build-hh0shgs9\n",
            "  Running command git clone --filter=blob:none --quiet https://github.com/GiacomoPope/kyber-py.git /tmp/pip-req-build-hh0shgs9\n",
            "  Resolved https://github.com/GiacomoPope/kyber-py.git to commit 7b1c1b2b9e30f9bab6ebf9537c03ed7b448c7f07\n",
            "  Installing build dependencies ... \u001b[?25l\u001b[?25hdone\n",
            "  Getting requirements to build wheel ... \u001b[?25l\u001b[?25hdone\n",
            "  Preparing metadata (pyproject.toml) ... \u001b[?25l\u001b[?25hdone\n",
            "Building wheels for collected packages: kyber_py\n",
            "  Building wheel for kyber_py (pyproject.toml) ... \u001b[?25l\u001b[?25hdone\n",
            "  Created wheel for kyber_py: filename=kyber_py-0.0.0-py3-none-any.whl size=21932 sha256=d16455c28295830f181ae414ae27ec1dea12aec1329253f46f2a8a9d9716ccaf\n",
            "  Stored in directory: /tmp/pip-ephem-wheel-cache-y3qkg0g9/wheels/37/a4/54/a68d293d972cb35a8ca92e3e8eb500817f0d4d2c7015266fb9\n",
            "Successfully built kyber_py\n",
            "Installing collected packages: kyber_py\n",
            "Successfully installed kyber_py-0.0.0\n"
          ]
        }
      ],
      "source": [
        "!pip install git+https://github.com/GiacomoPope/kyber-py.git\n"
      ]
    },
    {
      "cell_type": "code",
      "source": [
        "from kyber_py.ml_kem import ML_KEM_512\n",
        "from kyber_py.kyber import Kyber512\n"
      ],
      "metadata": {
        "id": "Jch042GX90qA"
      },
      "execution_count": 10,
      "outputs": []
    },
    {
      "cell_type": "code",
      "source": [
        "# Key generation\n",
        "ek, dk = ML_KEM_512.keygen()\n",
        "\n",
        "# Encapsulation\n",
        "key, ct = ML_KEM_512.encaps(ek)\n",
        "\n",
        "# Decapsulation\n",
        "_key = ML_KEM_512.decaps(dk, ct)\n",
        "\n",
        "# Verification\n",
        "assert key == _key, \"Decapsulation failed: keys do not match.\"\n"
      ],
      "metadata": {
        "id": "kEZP7EFg9472"
      },
      "execution_count": 11,
      "outputs": []
    },
    {
      "cell_type": "code",
      "source": [
        "# Key generation\n",
        "pk, sk = Kyber512.keygen()\n",
        "\n",
        "# Encapsulation\n",
        "key, c = Kyber512.encaps(pk)\n",
        "\n",
        "# Decapsulation\n",
        "_key = Kyber512.decaps(sk, c)\n",
        "\n",
        "# Verification\n",
        "assert key == _key, \"Decapsulation failed: keys do not match.\"\n"
      ],
      "metadata": {
        "id": "AIeRcFBM98et"
      },
      "execution_count": 12,
      "outputs": []
    },
    {
      "cell_type": "code",
      "source": [
        "from kyber_py.polynomials.polynomials_generic import PolynomialRing\n",
        "\n",
        "# Define a polynomial ring R with modulus 11 and degree 8\n",
        "R = PolynomialRing(11, 8)\n",
        "x = R.gen()\n",
        "\n",
        "# Create polynomials f and g\n",
        "f = 3*x**3 + 4*x**7\n",
        "g = R.random_element()\n",
        "\n",
        "# Polynomial operations\n",
        "product = f * g\n",
        "sum_poly = f + f\n",
        "zero_poly = g - g\n"
      ],
      "metadata": {
        "id": "zS2fhxUh9-8Y"
      },
      "execution_count": 13,
      "outputs": []
    },
    {
      "cell_type": "code",
      "source": [
        "from kyber_py.kyber import Kyber512\n",
        "from kyber_py.polynomials.polynomials_generic import PolynomialRing\n",
        "from kyber_py.modules.modules_generic import Module\n",
        "\n",
        "# Key Generation\n",
        "pk, sk = Kyber512.keygen()\n",
        "\n",
        "# Encapsulation\n",
        "key, c = Kyber512.encaps(pk)\n",
        "\n",
        "# Decapsulation\n",
        "_key = Kyber512.decaps(sk, c)\n",
        "\n",
        "# Ensuring correctness\n",
        "assert key == _key, \"Key mismatch!\"\n",
        "\n",
        "# Polynomial Operations\n",
        "R = PolynomialRing(11, 8)\n",
        "x = R.gen()\n",
        "\n",
        "f = 3*x**3 + 4*x**7\n",
        "g = R.random_element()\n",
        "\n",
        "# Polynomial Arithmetic\n",
        "print(\"f * g:\", f * g)\n",
        "print(\"f + f:\", f + f)\n",
        "print(\"g - g:\", g - g)\n",
        "\n",
        "# Module Operations\n",
        "M = Module(R)\n",
        "\n",
        "# Defining a 2x2 matrix\n",
        "A = M([[x + 3*x**2, 4 + 3*x**7], [3*x**3 + 9*x**7, x**4]])\n",
        "\n",
        "# Defining a column vector (reshaped to match multiplication rules)\n",
        "v = M([[3*x**5], [x]])  # Properly shaped as a column vector\n",
        "\n",
        "# Transpose check (if needed)\n",
        "# v = v.transpose()\n",
        "\n",
        "# Matrix-vector multiplication\n",
        "result = A @ v\n",
        "\n",
        "# Printing results\n",
        "print(\"Matrix A:\\n\", A)\n",
        "print(\"Vector v:\\n\", v)\n",
        "print(\"Result of A @ v:\\n\", result)\n"
      ],
      "metadata": {
        "colab": {
          "base_uri": "https://localhost:8080/"
        },
        "id": "qhinlU0G-BcI",
        "outputId": "918e3f91-cbdd-4e8c-cfdf-ba2bf143345b"
      },
      "execution_count": 15,
      "outputs": [
        {
          "output_type": "stream",
          "name": "stdout",
          "text": [
            "f * g: 10 + 7*x^2 + 6*x^3 + 9*x^4 + 4*x^5 + 7*x^6 + 9*x^7\n",
            "f + f: 6*x^3 + 8*x^7\n",
            "g - g: 0\n",
            "Matrix A:\n",
            " [    x + 3*x^2, 4 + 3*x^7]\n",
            "[3*x^3 + 9*x^7,       x^4]\n",
            "Vector v:\n",
            " [3*x^5]\n",
            "[    x]\n",
            "Result of A @ v:\n",
            " [8 + 4*x + 3*x^6 + 9*x^7]\n",
            "[        2 + 6*x^4 + x^5]\n"
          ]
        }
      ]
    }
  ]
}